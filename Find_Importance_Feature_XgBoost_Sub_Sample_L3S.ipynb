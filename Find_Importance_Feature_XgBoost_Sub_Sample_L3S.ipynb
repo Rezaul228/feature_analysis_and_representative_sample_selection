{
 "cells": [
  {
   "cell_type": "code",
   "execution_count": 320,
   "metadata": {},
   "outputs": [],
   "source": [
    "import pickle\n",
    "import pandas as pd\n",
    "import numpy as np\n",
    "import xgboost as xgb\n",
    "from xgboost.sklearn import XGBClassifier\n",
    "from sklearn import metrics   \n",
    "\n",
    "import matplotlib.pylab as plt\n",
    "%matplotlib inline"
   ]
  },
  {
   "cell_type": "code",
   "execution_count": 321,
   "metadata": {},
   "outputs": [],
   "source": [
    "#Import all train data those are concated together and the Labels.\n",
    "df = pd.read_csv(\"D:/Project/Sample data/Sam_8/train_numeric_sample.csv\", index_col=0,)\n",
    "columns = df.drop([\"Response\"], axis=1).columns"
   ]
  },
  {
   "cell_type": "code",
   "execution_count": 322,
   "metadata": {},
   "outputs": [],
   "source": [
    "def getSample(frac):\n",
    "    data = df.sample(frac=frac)\n",
    "    return data"
   ]
  },
  {
   "cell_type": "code",
   "execution_count": 323,
   "metadata": {},
   "outputs": [
    {
     "data": {
      "text/plain": [
       "(800, 969)"
      ]
     },
     "execution_count": 323,
     "metadata": {},
     "output_type": "execute_result"
    }
   ],
   "source": [
    "df_percent.shape"
   ]
  },
  {
   "cell_type": "code",
   "execution_count": 328,
   "metadata": {},
   "outputs": [],
   "source": [
    "def modelfit(alg, X_all, y_all,i, useTrainCV=True, cv_folds=3, early_stopping_rounds=50):\n",
    "    if useTrainCV:\n",
    "        xgb_param = alg.get_xgb_params()\n",
    "        xgtrain = xgb.DMatrix(X_all, label=y_all)\n",
    "        cvresult = xgb.cv(xgb_param, xgtrain, num_boost_round=alg.get_params()['n_estimators'], nfold=cv_folds,\n",
    "                          metrics='auc', early_stopping_rounds=early_stopping_rounds, verbose_eval=1)\n",
    "        alg.set_params(n_estimators=cvresult.shape[0])\n",
    "    \n",
    "    #Fit the algorithm on the data\n",
    "    alg.fit(X_all, y_all, eval_metric=['auc'])\n",
    "    \n",
    "    print(alg)\n",
    "        \n",
    "    #Predict training set:\n",
    "    dtrain_predictions = alg.predict(X_all)\n",
    "    dtrain_predprob = alg.predict_proba(X_all)[:,1]\n",
    "    \n",
    "    sorted_idx = np.argsort(alg.feature_importances_)[::-1]\n",
    "    f_name = []\n",
    "    score = []\n",
    "    print('Important Features:')\n",
    "    for index in sorted_idx:\n",
    "        #print([columns[index], alg.feature_importances_[index]])\n",
    "        f_name.append(columns[index])\n",
    "        score.append(alg.feature_importances_[index])\n",
    "    im_Feature= pd.DataFrame(f_name, columns =[\"f_name\"])\n",
    "    im_Feature[\"score\"] = score\n",
    "    im_Feature=im_Feature.head(49)\n",
    "    out_file = \"D:/input output csv\" + \"/data_{}.csv\".format(i+1)\n",
    "\n",
    "    im_Feature.to_csv(out_file)\n",
    "    print(im_Feature.head())\n",
    "    #Print model report:\n",
    "    print(\"\\nModel Report\")\n",
    "    #print \"Accuracy : %.4g\" % metrics.accuracy_score(y_all, X_all)\n",
    "    print(\"AUC Score (Train): %f\" % metrics.roc_auc_score(y_all, dtrain_predprob))\n",
    "\n",
    "   # print(alg.booster())   \n",
    "    out_file = \"D:/input output csv\" + \"/data_{}.png\".format(i+1)\n",
    "\n",
    "   # print(alg.booster())                \n",
    "    feat_imp = pd.Series(alg.get_booster().get_fscore()).sort_values(ascending=False)[:25]\n",
    "    feat_imp.plot(kind='bar', title='Feature Importances')\n",
    "    plt.ylabel('Feature Importance Score')\n",
    "    \n",
    "    plt.savefig(out_file)\n",
    "    print(feat_imp.to_string())"
   ]
  },
  {
   "cell_type": "code",
   "execution_count": 330,
   "metadata": {},
   "outputs": [],
   "source": [
    "def modelfit(alg, X_all, y_all, i, useTrainCV=True, cv_folds=3, early_stopping_rounds=50):\n",
    "    if useTrainCV:\n",
    "        xgb_param = alg.get_xgb_params()\n",
    "        xgtrain = xgb.DMatrix(X_all, label=y_all)\n",
    "        cvresult = xgb.cv(xgb_param, xgtrain, num_boost_round=alg.get_params()['n_estimators'], nfold=cv_folds,\n",
    "                          metrics='auc', early_stopping_rounds=early_stopping_rounds, verbose_eval=1)\n",
    "        alg.set_params(n_estimators=cvresult.shape[0])\n",
    "    \n",
    "    #Fit the algorithm on the data\n",
    "    alg.fit(X_all, y_all, eval_metric=['auc'])\n",
    "    \n",
    "    print(alg)\n",
    "        \n",
    "    #Predict training set:\n",
    "    dtrain_predictions = alg.predict(X_all)\n",
    "    dtrain_predprob = alg.predict_proba(X_all)[:,1]\n",
    "        \n",
    "    #Print model report:\n",
    "    print(\"\\nModel Report\")\n",
    "    #print \"Accuracy : %.4g\" % metrics.accuracy_score(y_all, X_all)\n",
    "    print(\"AUC Score (Train): %f\" % metrics.roc_auc_score(y_all, dtrain_predprob))\n",
    "\n",
    "   # print(alg.booster())                \n",
    "    feat_imp = pd.Series(alg.get_booster().get_fscore()).sort_values(ascending=False)[:25]\n",
    "    feat_imp.plot(kind='bar', title='Feature Importances')\n",
    "    plt.ylabel('Feature Importance Score')\n",
    "    \n",
    "    plt.savefig('D:/Project_data_all_L3S/Process_data/Train_num.png')\n",
    "    print(feat_imp.to_string())"
   ]
  },
  {
   "cell_type": "code",
   "execution_count": 337,
   "metadata": {},
   "outputs": [
    {
     "name": "stderr",
     "output_type": "stream",
     "text": [
      "C:\\Users\\Rezaul Abedin\\Anaconda3\\lib\\site-packages\\xgboost\\core.py:587: FutureWarning: Series.base is deprecated and will be removed in a future version\n",
      "  if getattr(data, 'base', None) is not None and \\\n",
      "C:\\Users\\Rezaul Abedin\\Anaconda3\\lib\\site-packages\\xgboost\\core.py:588: FutureWarning: Series.base is deprecated and will be removed in a future version\n",
      "  data.base is not None and isinstance(data, np.ndarray) \\\n"
     ]
    },
    {
     "name": "stdout",
     "output_type": "stream",
     "text": [
      "[0]\ttrain-auc:0.844799+0.014207\ttest-auc:0.584696+0.074948\n",
      "[1]\ttrain-auc:0.927045+0.0186769\ttest-auc:0.55647+0.0648361\n",
      "[2]\ttrain-auc:0.953806+0.0129034\ttest-auc:0.547382+0.0315946\n",
      "[3]\ttrain-auc:0.973204+0.00458539\ttest-auc:0.525055+0.0329166\n",
      "[4]\ttrain-auc:0.984533+0.00387535\ttest-auc:0.561835+0.0339649\n",
      "[5]\ttrain-auc:0.988957+0.00233949\ttest-auc:0.564399+0.0330031\n",
      "[6]\ttrain-auc:0.993824+0.00182968\ttest-auc:0.597815+0.0587061\n",
      "[7]\ttrain-auc:0.995779+0.000524596\ttest-auc:0.616312+0.0717208\n",
      "[8]\ttrain-auc:0.996795+0.000790489\ttest-auc:0.630211+0.0707058\n",
      "[9]\ttrain-auc:0.997807+1.25698e-05\ttest-auc:0.632295+0.060902\n",
      "[10]\ttrain-auc:0.998133+0.000527179\ttest-auc:0.633222+0.0628026\n",
      "[11]\ttrain-auc:0.998941+0.000302157\ttest-auc:0.632024+0.0551647\n",
      "[12]\ttrain-auc:0.999295+0.000298947\ttest-auc:0.636487+0.0458184\n",
      "[13]\ttrain-auc:0.999478+0.000260464\ttest-auc:0.645816+0.0485297\n",
      "[14]\ttrain-auc:0.999603+0.000271917\ttest-auc:0.641387+0.0472062\n",
      "[15]\ttrain-auc:0.999685+0.000218956\ttest-auc:0.642867+0.0563975\n",
      "[16]\ttrain-auc:0.999766+0.000131022\ttest-auc:0.647268+0.0586823\n",
      "[17]\ttrain-auc:0.99984+0.000106737\ttest-auc:0.641567+0.0587072\n",
      "[18]\ttrain-auc:0.999859+8.53398e-05\ttest-auc:0.646692+0.0557042\n",
      "[19]\ttrain-auc:0.99991+4.53064e-05\ttest-auc:0.643519+0.0522889\n",
      "[20]\ttrain-auc:0.999941+4.58791e-05\ttest-auc:0.646159+0.0508664\n",
      "[21]\ttrain-auc:0.999942+2.93295e-05\ttest-auc:0.645421+0.0510816\n",
      "[22]\ttrain-auc:0.99996+2.90096e-05\ttest-auc:0.649129+0.0497575\n",
      "[23]\ttrain-auc:0.999967+2.3622e-05\ttest-auc:0.648695+0.0469294\n",
      "[24]\ttrain-auc:0.999978+1.75563e-05\ttest-auc:0.64696+0.0481215\n",
      "[25]\ttrain-auc:0.999989+8.98146e-06\ttest-auc:0.644887+0.0460489\n",
      "[26]\ttrain-auc:0.999996+5.18545e-06\ttest-auc:0.64881+0.0486172\n",
      "[27]\ttrain-auc:0.999989+1.50849e-05\ttest-auc:0.645+0.0506934\n",
      "[28]\ttrain-auc:0.999993+9.89949e-06\ttest-auc:0.644592+0.0522694\n",
      "[29]\ttrain-auc:0.999996+5.18545e-06\ttest-auc:0.649576+0.0553546\n",
      "[30]\ttrain-auc:1+0\ttest-auc:0.649357+0.0604357\n",
      "[31]\ttrain-auc:1+0\ttest-auc:0.653292+0.0558708\n",
      "[32]\ttrain-auc:1+0\ttest-auc:0.655985+0.0517322\n",
      "[33]\ttrain-auc:1+0\ttest-auc:0.657978+0.0530222\n",
      "[34]\ttrain-auc:1+0\ttest-auc:0.661033+0.0555622\n",
      "[35]\ttrain-auc:1+0\ttest-auc:0.658522+0.0562811\n",
      "[36]\ttrain-auc:1+0\ttest-auc:0.662833+0.0561352\n",
      "[37]\ttrain-auc:1+0\ttest-auc:0.662871+0.055411\n",
      "[38]\ttrain-auc:1+0\ttest-auc:0.659488+0.0542458\n",
      "[39]\ttrain-auc:1+0\ttest-auc:0.663932+0.0542569\n",
      "[40]\ttrain-auc:1+0\ttest-auc:0.663112+0.0551172\n",
      "[41]\ttrain-auc:1+0\ttest-auc:0.662484+0.0556759\n",
      "[42]\ttrain-auc:1+0\ttest-auc:0.662843+0.0567042\n",
      "[43]\ttrain-auc:1+0\ttest-auc:0.663105+0.0581424\n",
      "[44]\ttrain-auc:1+0\ttest-auc:0.664608+0.0554376\n",
      "[45]\ttrain-auc:1+0\ttest-auc:0.663087+0.0554752\n",
      "[46]\ttrain-auc:1+0\ttest-auc:0.66274+0.0529827\n",
      "[47]\ttrain-auc:1+0\ttest-auc:0.659709+0.0536511\n",
      "[48]\ttrain-auc:1+0\ttest-auc:0.660128+0.0501322\n",
      "[49]\ttrain-auc:1+0\ttest-auc:0.660963+0.0509899\n",
      "XGBClassifier(base_score=0.0056, booster='gbtree', colsample_bylevel=1,\n",
      "              colsample_bynode=1, colsample_bytree=0.8, gamma=0.1,\n",
      "              learning_rate=0.05, max_delta_step=0, max_depth=7,\n",
      "              min_child_weight=1, missing=None, n_estimators=50, n_jobs=1,\n",
      "              nthread=4, objective='binary:logistic', random_state=0,\n",
      "              reg_alpha=0, reg_lambda=1, scale_pos_weight=3, seed=1,\n",
      "              silent=None, subsample=0.8, verbosity=1)\n",
      "\n",
      "Model Report\n",
      "AUC Score (Train): 1.000000\n",
      "f850    24\n",
      "f851    18\n",
      "f792    16\n",
      "f779    13\n",
      "f325    13\n",
      "f854    12\n",
      "f803    12\n",
      "f829    11\n",
      "f872    10\n",
      "f784     9\n",
      "f826     9\n",
      "f744     9\n",
      "f848     8\n",
      "f827     8\n",
      "f730     8\n",
      "f771     8\n",
      "f819     8\n",
      "f864     7\n",
      "f734     7\n",
      "f732     7\n",
      "f35      7\n",
      "f32      7\n",
      "f843     7\n",
      "f828     7\n",
      "f9       6\n"
     ]
    },
    {
     "name": "stderr",
     "output_type": "stream",
     "text": [
      "C:\\Users\\Rezaul Abedin\\Anaconda3\\lib\\site-packages\\xgboost\\core.py:587: FutureWarning: Series.base is deprecated and will be removed in a future version\n",
      "  if getattr(data, 'base', None) is not None and \\\n",
      "C:\\Users\\Rezaul Abedin\\Anaconda3\\lib\\site-packages\\xgboost\\core.py:588: FutureWarning: Series.base is deprecated and will be removed in a future version\n",
      "  data.base is not None and isinstance(data, np.ndarray) \\\n"
     ]
    },
    {
     "name": "stdout",
     "output_type": "stream",
     "text": [
      "[0]\ttrain-auc:0.844799+0.014207\ttest-auc:0.584696+0.074948\n",
      "[1]\ttrain-auc:0.927045+0.0186769\ttest-auc:0.55647+0.0648361\n",
      "[2]\ttrain-auc:0.953806+0.0129034\ttest-auc:0.547382+0.0315946\n",
      "[3]\ttrain-auc:0.973204+0.00458539\ttest-auc:0.525055+0.0329166\n",
      "[4]\ttrain-auc:0.984533+0.00387535\ttest-auc:0.561835+0.0339649\n",
      "[5]\ttrain-auc:0.988957+0.00233949\ttest-auc:0.564399+0.0330031\n",
      "[6]\ttrain-auc:0.993824+0.00182968\ttest-auc:0.597815+0.0587061\n",
      "[7]\ttrain-auc:0.995779+0.000524596\ttest-auc:0.616312+0.0717208\n",
      "[8]\ttrain-auc:0.996795+0.000790489\ttest-auc:0.630211+0.0707058\n",
      "[9]\ttrain-auc:0.997807+1.25698e-05\ttest-auc:0.632295+0.060902\n",
      "[10]\ttrain-auc:0.998133+0.000527179\ttest-auc:0.633222+0.0628026\n",
      "[11]\ttrain-auc:0.998941+0.000302157\ttest-auc:0.632024+0.0551647\n",
      "[12]\ttrain-auc:0.999295+0.000298947\ttest-auc:0.636487+0.0458184\n",
      "[13]\ttrain-auc:0.999478+0.000260464\ttest-auc:0.645816+0.0485297\n",
      "[14]\ttrain-auc:0.999603+0.000271917\ttest-auc:0.641387+0.0472062\n",
      "[15]\ttrain-auc:0.999685+0.000218956\ttest-auc:0.642867+0.0563975\n",
      "[16]\ttrain-auc:0.999766+0.000131022\ttest-auc:0.647268+0.0586823\n",
      "[17]\ttrain-auc:0.99984+0.000106737\ttest-auc:0.641567+0.0587072\n",
      "[18]\ttrain-auc:0.999859+8.53398e-05\ttest-auc:0.646692+0.0557042\n",
      "[19]\ttrain-auc:0.99991+4.53064e-05\ttest-auc:0.643519+0.0522889\n",
      "[20]\ttrain-auc:0.999941+4.58791e-05\ttest-auc:0.646159+0.0508664\n",
      "[21]\ttrain-auc:0.999942+2.93295e-05\ttest-auc:0.645421+0.0510816\n",
      "[22]\ttrain-auc:0.99996+2.90096e-05\ttest-auc:0.649129+0.0497575\n",
      "[23]\ttrain-auc:0.999967+2.3622e-05\ttest-auc:0.648695+0.0469294\n",
      "[24]\ttrain-auc:0.999978+1.75563e-05\ttest-auc:0.64696+0.0481215\n",
      "[25]\ttrain-auc:0.999989+8.98146e-06\ttest-auc:0.644887+0.0460489\n",
      "[26]\ttrain-auc:0.999996+5.18545e-06\ttest-auc:0.64881+0.0486172\n",
      "[27]\ttrain-auc:0.999989+1.50849e-05\ttest-auc:0.645+0.0506934\n",
      "[28]\ttrain-auc:0.999993+9.89949e-06\ttest-auc:0.644592+0.0522694\n",
      "[29]\ttrain-auc:0.999996+5.18545e-06\ttest-auc:0.649576+0.0553546\n",
      "[30]\ttrain-auc:1+0\ttest-auc:0.649357+0.0604357\n",
      "[31]\ttrain-auc:1+0\ttest-auc:0.653292+0.0558708\n",
      "[32]\ttrain-auc:1+0\ttest-auc:0.655985+0.0517322\n",
      "[33]\ttrain-auc:1+0\ttest-auc:0.657978+0.0530222\n",
      "[34]\ttrain-auc:1+0\ttest-auc:0.661033+0.0555622\n",
      "[35]\ttrain-auc:1+0\ttest-auc:0.658522+0.0562811\n",
      "[36]\ttrain-auc:1+0\ttest-auc:0.662833+0.0561352\n",
      "[37]\ttrain-auc:1+0\ttest-auc:0.662871+0.055411\n",
      "[38]\ttrain-auc:1+0\ttest-auc:0.659488+0.0542458\n",
      "[39]\ttrain-auc:1+0\ttest-auc:0.663932+0.0542569\n",
      "[40]\ttrain-auc:1+0\ttest-auc:0.663112+0.0551172\n",
      "[41]\ttrain-auc:1+0\ttest-auc:0.662484+0.0556759\n",
      "[42]\ttrain-auc:1+0\ttest-auc:0.662843+0.0567042\n",
      "[43]\ttrain-auc:1+0\ttest-auc:0.663105+0.0581424\n",
      "[44]\ttrain-auc:1+0\ttest-auc:0.664608+0.0554376\n",
      "[45]\ttrain-auc:1+0\ttest-auc:0.663087+0.0554752\n",
      "[46]\ttrain-auc:1+0\ttest-auc:0.66274+0.0529827\n",
      "[47]\ttrain-auc:1+0\ttest-auc:0.659709+0.0536511\n",
      "[48]\ttrain-auc:1+0\ttest-auc:0.660128+0.0501322\n",
      "[49]\ttrain-auc:1+0\ttest-auc:0.660963+0.0509899\n",
      "XGBClassifier(base_score=0.0056, booster='gbtree', colsample_bylevel=1,\n",
      "              colsample_bynode=1, colsample_bytree=0.8, gamma=0.1,\n",
      "              learning_rate=0.05, max_delta_step=0, max_depth=7,\n",
      "              min_child_weight=1, missing=None, n_estimators=50, n_jobs=1,\n",
      "              nthread=4, objective='binary:logistic', random_state=0,\n",
      "              reg_alpha=0, reg_lambda=1, scale_pos_weight=3, seed=1,\n",
      "              silent=None, subsample=0.8, verbosity=1)\n",
      "\n",
      "Model Report\n",
      "AUC Score (Train): 1.000000\n",
      "f850    24\n",
      "f851    18\n",
      "f792    16\n",
      "f779    13\n",
      "f325    13\n",
      "f854    12\n",
      "f803    12\n",
      "f829    11\n",
      "f872    10\n",
      "f784     9\n",
      "f826     9\n",
      "f744     9\n",
      "f848     8\n",
      "f827     8\n",
      "f730     8\n",
      "f771     8\n",
      "f819     8\n",
      "f864     7\n",
      "f734     7\n",
      "f732     7\n",
      "f35      7\n",
      "f32      7\n",
      "f843     7\n",
      "f828     7\n",
      "f9       6\n"
     ]
    },
    {
     "data": {
      "image/png": "[encoded data removed]",
      "text/plain": [
       "<Figure size 432x288 with 1 Axes>"
      ]
     },
     "metadata": {
      "needs_background": "light"
     },
     "output_type": "display_data"
    }
   ],
   "source": [
    "for i in np.arange(2):\n",
    "    X_all = getSample(0.80)\n",
    "    y_all = X_all['Response']\n",
    "    X_all = X_all.iloc[:,:-1].values\n",
    "\n",
    "    xgb1 = XGBClassifier(learning_rate=0.05,\n",
    "                     base_score=0.0056,\n",
    "                     n_estimators=50,\n",
    "                     max_depth=7,\n",
    "                     min_child_weight=1,\n",
    "                     gamma=0.1,\n",
    "                     subsample=0.8,\n",
    "                     colsample_bytree=0.8,\n",
    "                     objective='binary:logistic',\n",
    "                     nthread=4,\n",
    "                     scale_pos_weight=3,\n",
    "                     seed=1)\n",
    "    modelfit(xgb1, X_all, y_all, i)\n",
    "    "
   ]
  },
  {
   "cell_type": "code",
   "execution_count": 335,
   "metadata": {},
   "outputs": [],
   "source": [
    "# Replce NAN with \"MeanValue\"\n",
    "#X_all=X_all.fillna(X_all.mean())"
   ]
  },
  {
   "cell_type": "code",
   "execution_count": null,
   "metadata": {},
   "outputs": [],
   "source": [
    "#Check number of noraml and anomaly in the test data after sampling\n",
    "\n",
    "unique, counts = np.unique(y_all, return_counts=True)\n",
    "dict(zip(unique, counts))"
   ]
  },
  {
   "cell_type": "code",
   "execution_count": null,
   "metadata": {},
   "outputs": [],
   "source": [
    "#Return true if there is null values\n",
    "print(np.any(np.isnan(X_all)))"
   ]
  },
  {
   "cell_type": "code",
   "execution_count": null,
   "metadata": {},
   "outputs": [],
   "source": [
    "X_all.head()"
   ]
  }
 ],
 "metadata": {
  "kernelspec": {
   "display_name": "Python 3",
   "language": "python",
   "name": "python3"
  },
  "language_info": {
   "codemirror_mode": {
    "name": "ipython",
    "version": 3
   },
   "file_extension": ".py",
   "mimetype": "text/x-python",
   "name": "python",
   "nbconvert_exporter": "python",
   "pygments_lexer": "ipython3",
   "version": "3.7.3"
  }
 },
 "nbformat": 4,
 "nbformat_minor": 2
}
