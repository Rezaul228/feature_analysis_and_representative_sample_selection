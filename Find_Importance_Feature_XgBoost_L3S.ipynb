{
 "cells": [
  {
   "cell_type": "code",
   "execution_count": 17,
   "metadata": {},
   "outputs": [],
   "source": [
    "#Find all importent feature from Numerical , Date, Cetagorical data  by Xgboost "
   ]
  },
  {
   "cell_type": "code",
   "execution_count": 84,
   "metadata": {},
   "outputs": [],
   "source": [
    "import pickle\n",
    "import pandas as pd\n",
    "import numpy as np\n",
    "import xgboost as xgb\n",
    "from xgboost.sklearn import XGBClassifier\n",
    "from sklearn import metrics   \n",
    "\n",
    "import matplotlib.pylab as plt\n",
    "%matplotlib inline\n"
   ]
  },
  {
   "cell_type": "code",
   "execution_count": 85,
   "metadata": {},
   "outputs": [],
   "source": [
    "#Import all train data those are concated together and the Labels.\n",
    "\n",
    "y_all = pd.read_csv(\"D:/Project/Sample data/pkl/labels_y.csv\", index_col=0,)\n",
    "pkl_file3 = open('D:/Project/Sample data/train_all_df/train_all_df.pkl', 'rb')\n",
    "X_all = pickle.load(pkl_file3)"
   ]
  },
  {
   "cell_type": "code",
   "execution_count": 86,
   "metadata": {},
   "outputs": [],
   "source": [
    "# Replce NAN with \"MeanValue\"\n",
    "#X_all=X_all.fillna(X_all.mean())"
   ]
  },
  {
   "cell_type": "code",
   "execution_count": 87,
   "metadata": {},
   "outputs": [],
   "source": [
    "a = y_all[\"Response\"].values"
   ]
  },
  {
   "cell_type": "code",
   "execution_count": 88,
   "metadata": {},
   "outputs": [
    {
     "data": {
      "text/plain": [
       "{0: 7961, 1: 39}"
      ]
     },
     "execution_count": 88,
     "metadata": {},
     "output_type": "execute_result"
    }
   ],
   "source": [
    "#Check number of noraml and anomaly in the test data after sampling\n",
    "\n",
    "unique, counts = np.unique(y_all, return_counts=True)\n",
    "dict(zip(unique, counts))"
   ]
  },
  {
   "cell_type": "code",
   "execution_count": 89,
   "metadata": {},
   "outputs": [
    {
     "name": "stdout",
     "output_type": "stream",
     "text": [
      "True\n"
     ]
    }
   ],
   "source": [
    "#Return true if there is null values\n",
    "print(np.any(np.isnan(X_all)))"
   ]
  },
  {
   "cell_type": "code",
   "execution_count": 90,
   "metadata": {},
   "outputs": [
    {
     "data": {
      "text/html": [
       "<div>\n",
       "<style scoped>\n",
       "    .dataframe tbody tr th:only-of-type {\n",
       "        vertical-align: middle;\n",
       "    }\n",
       "\n",
       "    .dataframe tbody tr th {\n",
       "        vertical-align: top;\n",
       "    }\n",
       "\n",
       "    .dataframe thead th {\n",
       "        text-align: right;\n",
       "    }\n",
       "</style>\n",
       "<table border=\"1\" class=\"dataframe\">\n",
       "  <thead>\n",
       "    <tr style=\"text-align: right;\">\n",
       "      <th></th>\n",
       "      <th>L0_S0_F0</th>\n",
       "      <th>L0_S0_F2</th>\n",
       "      <th>L0_S0_F4</th>\n",
       "      <th>L0_S0_F6</th>\n",
       "      <th>L0_S0_F8</th>\n",
       "      <th>L0_S0_F10</th>\n",
       "      <th>L0_S0_F12</th>\n",
       "      <th>L0_S0_F14</th>\n",
       "      <th>L0_S0_F16</th>\n",
       "      <th>L0_S0_F18</th>\n",
       "      <th>...</th>\n",
       "      <th>L3__S49__F4225</th>\n",
       "      <th>L3__S49__F4227</th>\n",
       "      <th>L3__S49__F4229</th>\n",
       "      <th>L3__S49__F4230</th>\n",
       "      <th>L3__S49__F4232</th>\n",
       "      <th>L3__S49__F4234</th>\n",
       "      <th>L3__S49__F4235</th>\n",
       "      <th>L3__S49__F4237</th>\n",
       "      <th>L3__S49__F4239</th>\n",
       "      <th>L3__S49__F4240</th>\n",
       "    </tr>\n",
       "    <tr>\n",
       "      <th>Id</th>\n",
       "      <th></th>\n",
       "      <th></th>\n",
       "      <th></th>\n",
       "      <th></th>\n",
       "      <th></th>\n",
       "      <th></th>\n",
       "      <th></th>\n",
       "      <th></th>\n",
       "      <th></th>\n",
       "      <th></th>\n",
       "      <th></th>\n",
       "      <th></th>\n",
       "      <th></th>\n",
       "      <th></th>\n",
       "      <th></th>\n",
       "      <th></th>\n",
       "      <th></th>\n",
       "      <th></th>\n",
       "      <th></th>\n",
       "      <th></th>\n",
       "      <th></th>\n",
       "    </tr>\n",
       "  </thead>\n",
       "  <tbody>\n",
       "    <tr>\n",
       "      <th>428</th>\n",
       "      <td>0.115</td>\n",
       "      <td>0.063</td>\n",
       "      <td>-0.215</td>\n",
       "      <td>-0.179</td>\n",
       "      <td>0.031</td>\n",
       "      <td>-0.112</td>\n",
       "      <td>-0.030</td>\n",
       "      <td>-0.112</td>\n",
       "      <td>-0.021</td>\n",
       "      <td>0.056</td>\n",
       "      <td>...</td>\n",
       "      <td>NaN</td>\n",
       "      <td>NaN</td>\n",
       "      <td>NaN</td>\n",
       "      <td>NaN</td>\n",
       "      <td>NaN</td>\n",
       "      <td>NaN</td>\n",
       "      <td>NaN</td>\n",
       "      <td>NaN</td>\n",
       "      <td>NaN</td>\n",
       "      <td>NaN</td>\n",
       "    </tr>\n",
       "    <tr>\n",
       "      <th>625</th>\n",
       "      <td>NaN</td>\n",
       "      <td>NaN</td>\n",
       "      <td>NaN</td>\n",
       "      <td>NaN</td>\n",
       "      <td>NaN</td>\n",
       "      <td>NaN</td>\n",
       "      <td>NaN</td>\n",
       "      <td>NaN</td>\n",
       "      <td>NaN</td>\n",
       "      <td>NaN</td>\n",
       "      <td>...</td>\n",
       "      <td>NaN</td>\n",
       "      <td>NaN</td>\n",
       "      <td>NaN</td>\n",
       "      <td>NaN</td>\n",
       "      <td>NaN</td>\n",
       "      <td>NaN</td>\n",
       "      <td>NaN</td>\n",
       "      <td>NaN</td>\n",
       "      <td>NaN</td>\n",
       "      <td>NaN</td>\n",
       "    </tr>\n",
       "    <tr>\n",
       "      <th>1046</th>\n",
       "      <td>-0.023</td>\n",
       "      <td>-0.004</td>\n",
       "      <td>0.003</td>\n",
       "      <td>-0.016</td>\n",
       "      <td>0.031</td>\n",
       "      <td>0.070</td>\n",
       "      <td>0.008</td>\n",
       "      <td>0.008</td>\n",
       "      <td>0.051</td>\n",
       "      <td>-0.072</td>\n",
       "      <td>...</td>\n",
       "      <td>NaN</td>\n",
       "      <td>NaN</td>\n",
       "      <td>NaN</td>\n",
       "      <td>NaN</td>\n",
       "      <td>NaN</td>\n",
       "      <td>NaN</td>\n",
       "      <td>NaN</td>\n",
       "      <td>NaN</td>\n",
       "      <td>NaN</td>\n",
       "      <td>NaN</td>\n",
       "    </tr>\n",
       "    <tr>\n",
       "      <th>1228</th>\n",
       "      <td>-0.134</td>\n",
       "      <td>-0.078</td>\n",
       "      <td>0.003</td>\n",
       "      <td>-0.016</td>\n",
       "      <td>0.118</td>\n",
       "      <td>-0.021</td>\n",
       "      <td>0.022</td>\n",
       "      <td>0.088</td>\n",
       "      <td>0.240</td>\n",
       "      <td>0.067</td>\n",
       "      <td>...</td>\n",
       "      <td>NaN</td>\n",
       "      <td>NaN</td>\n",
       "      <td>NaN</td>\n",
       "      <td>NaN</td>\n",
       "      <td>NaN</td>\n",
       "      <td>NaN</td>\n",
       "      <td>NaN</td>\n",
       "      <td>NaN</td>\n",
       "      <td>NaN</td>\n",
       "      <td>NaN</td>\n",
       "    </tr>\n",
       "    <tr>\n",
       "      <th>1311</th>\n",
       "      <td>0.049</td>\n",
       "      <td>0.019</td>\n",
       "      <td>-0.179</td>\n",
       "      <td>-0.216</td>\n",
       "      <td>-0.100</td>\n",
       "      <td>-0.294</td>\n",
       "      <td>-0.022</td>\n",
       "      <td>-0.072</td>\n",
       "      <td>-0.021</td>\n",
       "      <td>0.158</td>\n",
       "      <td>...</td>\n",
       "      <td>NaN</td>\n",
       "      <td>NaN</td>\n",
       "      <td>NaN</td>\n",
       "      <td>NaN</td>\n",
       "      <td>NaN</td>\n",
       "      <td>NaN</td>\n",
       "      <td>NaN</td>\n",
       "      <td>NaN</td>\n",
       "      <td>NaN</td>\n",
       "      <td>NaN</td>\n",
       "    </tr>\n",
       "  </tbody>\n",
       "</table>\n",
       "<p>5 rows × 4264 columns</p>\n",
       "</div>"
      ],
      "text/plain": [
       "      L0_S0_F0  L0_S0_F2  L0_S0_F4  L0_S0_F6  L0_S0_F8  L0_S0_F10  L0_S0_F12  \\\n",
       "Id                                                                             \n",
       "428      0.115     0.063    -0.215    -0.179     0.031     -0.112     -0.030   \n",
       "625        NaN       NaN       NaN       NaN       NaN        NaN        NaN   \n",
       "1046    -0.023    -0.004     0.003    -0.016     0.031      0.070      0.008   \n",
       "1228    -0.134    -0.078     0.003    -0.016     0.118     -0.021      0.022   \n",
       "1311     0.049     0.019    -0.179    -0.216    -0.100     -0.294     -0.022   \n",
       "\n",
       "      L0_S0_F14  L0_S0_F16  L0_S0_F18  ...  L3__S49__F4225  L3__S49__F4227  \\\n",
       "Id                                     ...                                   \n",
       "428      -0.112     -0.021      0.056  ...             NaN             NaN   \n",
       "625         NaN        NaN        NaN  ...             NaN             NaN   \n",
       "1046      0.008      0.051     -0.072  ...             NaN             NaN   \n",
       "1228      0.088      0.240      0.067  ...             NaN             NaN   \n",
       "1311     -0.072     -0.021      0.158  ...             NaN             NaN   \n",
       "\n",
       "      L3__S49__F4229  L3__S49__F4230  L3__S49__F4232  L3__S49__F4234  \\\n",
       "Id                                                                     \n",
       "428              NaN             NaN             NaN             NaN   \n",
       "625              NaN             NaN             NaN             NaN   \n",
       "1046             NaN             NaN             NaN             NaN   \n",
       "1228             NaN             NaN             NaN             NaN   \n",
       "1311             NaN             NaN             NaN             NaN   \n",
       "\n",
       "      L3__S49__F4235  L3__S49__F4237  L3__S49__F4239  L3__S49__F4240  \n",
       "Id                                                                    \n",
       "428              NaN             NaN             NaN             NaN  \n",
       "625              NaN             NaN             NaN             NaN  \n",
       "1046             NaN             NaN             NaN             NaN  \n",
       "1228             NaN             NaN             NaN             NaN  \n",
       "1311             NaN             NaN             NaN             NaN  \n",
       "\n",
       "[5 rows x 4264 columns]"
      ]
     },
     "execution_count": 90,
     "metadata": {},
     "output_type": "execute_result"
    }
   ],
   "source": [
    "X_all.head()"
   ]
  },
  {
   "cell_type": "code",
   "execution_count": 91,
   "metadata": {},
   "outputs": [
    {
     "data": {
      "text/plain": [
       "(8000, 4264)"
      ]
     },
     "execution_count": 91,
     "metadata": {},
     "output_type": "execute_result"
    }
   ],
   "source": [
    "X_all.shape"
   ]
  },
  {
   "cell_type": "code",
   "execution_count": 92,
   "metadata": {},
   "outputs": [],
   "source": [
    "#Column with NAN return code \n",
    "Column_With_NAN=X_all.loc[:, X_all.isna().any()]"
   ]
  },
  {
   "cell_type": "code",
   "execution_count": 93,
   "metadata": {},
   "outputs": [
    {
     "data": {
      "text/plain": [
       "True"
      ]
     },
     "execution_count": 93,
     "metadata": {},
     "output_type": "execute_result"
    }
   ],
   "source": [
    "#Is there any NAN in column Code?\n",
    "X_all.isnull().values.any()\n"
   ]
  },
  {
   "cell_type": "code",
   "execution_count": 94,
   "metadata": {},
   "outputs": [
    {
     "data": {
      "text/html": [
       "<div>\n",
       "<style scoped>\n",
       "    .dataframe tbody tr th:only-of-type {\n",
       "        vertical-align: middle;\n",
       "    }\n",
       "\n",
       "    .dataframe tbody tr th {\n",
       "        vertical-align: top;\n",
       "    }\n",
       "\n",
       "    .dataframe thead th {\n",
       "        text-align: right;\n",
       "    }\n",
       "</style>\n",
       "<table border=\"1\" class=\"dataframe\">\n",
       "  <thead>\n",
       "    <tr style=\"text-align: right;\">\n",
       "      <th></th>\n",
       "      <th>L0_S0_F0</th>\n",
       "      <th>L0_S0_F2</th>\n",
       "      <th>L0_S0_F4</th>\n",
       "      <th>L0_S0_F6</th>\n",
       "      <th>L0_S0_F8</th>\n",
       "      <th>L0_S0_F10</th>\n",
       "      <th>L0_S0_F12</th>\n",
       "      <th>L0_S0_F14</th>\n",
       "      <th>L0_S0_F16</th>\n",
       "      <th>L0_S0_F18</th>\n",
       "      <th>...</th>\n",
       "      <th>L3__S49__F4225</th>\n",
       "      <th>L3__S49__F4227</th>\n",
       "      <th>L3__S49__F4229</th>\n",
       "      <th>L3__S49__F4230</th>\n",
       "      <th>L3__S49__F4232</th>\n",
       "      <th>L3__S49__F4234</th>\n",
       "      <th>L3__S49__F4235</th>\n",
       "      <th>L3__S49__F4237</th>\n",
       "      <th>L3__S49__F4239</th>\n",
       "      <th>L3__S49__F4240</th>\n",
       "    </tr>\n",
       "    <tr>\n",
       "      <th>Id</th>\n",
       "      <th></th>\n",
       "      <th></th>\n",
       "      <th></th>\n",
       "      <th></th>\n",
       "      <th></th>\n",
       "      <th></th>\n",
       "      <th></th>\n",
       "      <th></th>\n",
       "      <th></th>\n",
       "      <th></th>\n",
       "      <th></th>\n",
       "      <th></th>\n",
       "      <th></th>\n",
       "      <th></th>\n",
       "      <th></th>\n",
       "      <th></th>\n",
       "      <th></th>\n",
       "      <th></th>\n",
       "      <th></th>\n",
       "      <th></th>\n",
       "      <th></th>\n",
       "    </tr>\n",
       "  </thead>\n",
       "  <tbody>\n",
       "    <tr>\n",
       "      <th>428</th>\n",
       "      <td>0.115</td>\n",
       "      <td>0.063</td>\n",
       "      <td>-0.215</td>\n",
       "      <td>-0.179</td>\n",
       "      <td>0.031</td>\n",
       "      <td>-0.112</td>\n",
       "      <td>-0.030</td>\n",
       "      <td>-0.112</td>\n",
       "      <td>-0.021</td>\n",
       "      <td>0.056</td>\n",
       "      <td>...</td>\n",
       "      <td>NaN</td>\n",
       "      <td>NaN</td>\n",
       "      <td>NaN</td>\n",
       "      <td>NaN</td>\n",
       "      <td>NaN</td>\n",
       "      <td>NaN</td>\n",
       "      <td>NaN</td>\n",
       "      <td>NaN</td>\n",
       "      <td>NaN</td>\n",
       "      <td>NaN</td>\n",
       "    </tr>\n",
       "    <tr>\n",
       "      <th>625</th>\n",
       "      <td>NaN</td>\n",
       "      <td>NaN</td>\n",
       "      <td>NaN</td>\n",
       "      <td>NaN</td>\n",
       "      <td>NaN</td>\n",
       "      <td>NaN</td>\n",
       "      <td>NaN</td>\n",
       "      <td>NaN</td>\n",
       "      <td>NaN</td>\n",
       "      <td>NaN</td>\n",
       "      <td>...</td>\n",
       "      <td>NaN</td>\n",
       "      <td>NaN</td>\n",
       "      <td>NaN</td>\n",
       "      <td>NaN</td>\n",
       "      <td>NaN</td>\n",
       "      <td>NaN</td>\n",
       "      <td>NaN</td>\n",
       "      <td>NaN</td>\n",
       "      <td>NaN</td>\n",
       "      <td>NaN</td>\n",
       "    </tr>\n",
       "    <tr>\n",
       "      <th>1046</th>\n",
       "      <td>-0.023</td>\n",
       "      <td>-0.004</td>\n",
       "      <td>0.003</td>\n",
       "      <td>-0.016</td>\n",
       "      <td>0.031</td>\n",
       "      <td>0.070</td>\n",
       "      <td>0.008</td>\n",
       "      <td>0.008</td>\n",
       "      <td>0.051</td>\n",
       "      <td>-0.072</td>\n",
       "      <td>...</td>\n",
       "      <td>NaN</td>\n",
       "      <td>NaN</td>\n",
       "      <td>NaN</td>\n",
       "      <td>NaN</td>\n",
       "      <td>NaN</td>\n",
       "      <td>NaN</td>\n",
       "      <td>NaN</td>\n",
       "      <td>NaN</td>\n",
       "      <td>NaN</td>\n",
       "      <td>NaN</td>\n",
       "    </tr>\n",
       "    <tr>\n",
       "      <th>1228</th>\n",
       "      <td>-0.134</td>\n",
       "      <td>-0.078</td>\n",
       "      <td>0.003</td>\n",
       "      <td>-0.016</td>\n",
       "      <td>0.118</td>\n",
       "      <td>-0.021</td>\n",
       "      <td>0.022</td>\n",
       "      <td>0.088</td>\n",
       "      <td>0.240</td>\n",
       "      <td>0.067</td>\n",
       "      <td>...</td>\n",
       "      <td>NaN</td>\n",
       "      <td>NaN</td>\n",
       "      <td>NaN</td>\n",
       "      <td>NaN</td>\n",
       "      <td>NaN</td>\n",
       "      <td>NaN</td>\n",
       "      <td>NaN</td>\n",
       "      <td>NaN</td>\n",
       "      <td>NaN</td>\n",
       "      <td>NaN</td>\n",
       "    </tr>\n",
       "    <tr>\n",
       "      <th>1311</th>\n",
       "      <td>0.049</td>\n",
       "      <td>0.019</td>\n",
       "      <td>-0.179</td>\n",
       "      <td>-0.216</td>\n",
       "      <td>-0.100</td>\n",
       "      <td>-0.294</td>\n",
       "      <td>-0.022</td>\n",
       "      <td>-0.072</td>\n",
       "      <td>-0.021</td>\n",
       "      <td>0.158</td>\n",
       "      <td>...</td>\n",
       "      <td>NaN</td>\n",
       "      <td>NaN</td>\n",
       "      <td>NaN</td>\n",
       "      <td>NaN</td>\n",
       "      <td>NaN</td>\n",
       "      <td>NaN</td>\n",
       "      <td>NaN</td>\n",
       "      <td>NaN</td>\n",
       "      <td>NaN</td>\n",
       "      <td>NaN</td>\n",
       "    </tr>\n",
       "  </tbody>\n",
       "</table>\n",
       "<p>5 rows × 4264 columns</p>\n",
       "</div>"
      ],
      "text/plain": [
       "      L0_S0_F0  L0_S0_F2  L0_S0_F4  L0_S0_F6  L0_S0_F8  L0_S0_F10  L0_S0_F12  \\\n",
       "Id                                                                             \n",
       "428      0.115     0.063    -0.215    -0.179     0.031     -0.112     -0.030   \n",
       "625        NaN       NaN       NaN       NaN       NaN        NaN        NaN   \n",
       "1046    -0.023    -0.004     0.003    -0.016     0.031      0.070      0.008   \n",
       "1228    -0.134    -0.078     0.003    -0.016     0.118     -0.021      0.022   \n",
       "1311     0.049     0.019    -0.179    -0.216    -0.100     -0.294     -0.022   \n",
       "\n",
       "      L0_S0_F14  L0_S0_F16  L0_S0_F18  ...  L3__S49__F4225  L3__S49__F4227  \\\n",
       "Id                                     ...                                   \n",
       "428      -0.112     -0.021      0.056  ...             NaN             NaN   \n",
       "625         NaN        NaN        NaN  ...             NaN             NaN   \n",
       "1046      0.008      0.051     -0.072  ...             NaN             NaN   \n",
       "1228      0.088      0.240      0.067  ...             NaN             NaN   \n",
       "1311     -0.072     -0.021      0.158  ...             NaN             NaN   \n",
       "\n",
       "      L3__S49__F4229  L3__S49__F4230  L3__S49__F4232  L3__S49__F4234  \\\n",
       "Id                                                                     \n",
       "428              NaN             NaN             NaN             NaN   \n",
       "625              NaN             NaN             NaN             NaN   \n",
       "1046             NaN             NaN             NaN             NaN   \n",
       "1228             NaN             NaN             NaN             NaN   \n",
       "1311             NaN             NaN             NaN             NaN   \n",
       "\n",
       "      L3__S49__F4235  L3__S49__F4237  L3__S49__F4239  L3__S49__F4240  \n",
       "Id                                                                    \n",
       "428              NaN             NaN             NaN             NaN  \n",
       "625              NaN             NaN             NaN             NaN  \n",
       "1046             NaN             NaN             NaN             NaN  \n",
       "1228             NaN             NaN             NaN             NaN  \n",
       "1311             NaN             NaN             NaN             NaN  \n",
       "\n",
       "[5 rows x 4264 columns]"
      ]
     },
     "execution_count": 94,
     "metadata": {},
     "output_type": "execute_result"
    }
   ],
   "source": [
    "Column_With_NAN.head()"
   ]
  },
  {
   "cell_type": "code",
   "execution_count": 95,
   "metadata": {},
   "outputs": [],
   "source": [
    "# Drop column which contains NAN  \n",
    "#X_all=X_all.dropna(axis='columns')"
   ]
  },
  {
   "cell_type": "code",
   "execution_count": 96,
   "metadata": {},
   "outputs": [
    {
     "data": {
      "text/plain": [
       "(8000, 4264)"
      ]
     },
     "execution_count": 96,
     "metadata": {},
     "output_type": "execute_result"
    }
   ],
   "source": [
    "X_all.shape"
   ]
  },
  {
   "cell_type": "code",
   "execution_count": 97,
   "metadata": {},
   "outputs": [
    {
     "data": {
      "text/plain": [
       "True"
      ]
     },
     "execution_count": 97,
     "metadata": {},
     "output_type": "execute_result"
    }
   ],
   "source": [
    "X_all.isnull().values.any()"
   ]
  },
  {
   "cell_type": "code",
   "execution_count": 37,
   "metadata": {},
   "outputs": [],
   "source": [
    "def modelfit(alg, X_all, y_all, useTrainCV=True, cv_folds=3, early_stopping_rounds=50):\n",
    "    if useTrainCV:\n",
    "        xgb_param = alg.get_xgb_params()\n",
    "        xgtrain = xgb.DMatrix(X_all, label=y_all)\n",
    "        cvresult = xgb.cv(xgb_param, xgtrain, num_boost_round=alg.get_params()['n_estimators'], nfold=cv_folds,\n",
    "                          metrics='auc', early_stopping_rounds=early_stopping_rounds, verbose_eval=1)\n",
    "        alg.set_params(n_estimators=cvresult.shape[0])\n",
    "    \n",
    "    #Fit the algorithm on the data\n",
    "    alg.fit(X_all, y_all, eval_metric=['auc'])\n",
    "    \n",
    "    print(alg)\n",
    "        \n",
    "    #Predict training set:\n",
    "    dtrain_predictions = alg.predict(X_all)\n",
    "    dtrain_predprob = alg.predict_proba(X_all)[:,1]\n",
    "        \n",
    "    #Print model report:\n",
    "    print(\"\\nModel Report\")\n",
    "    #print \"Accuracy : %.4g\" % metrics.accuracy_score(y_all, X_all)\n",
    "    print(\"AUC Score (Train): %f\" % metrics.roc_auc_score(y_all, dtrain_predprob))\n",
    "\n",
    "   # print(alg.booster())                \n",
    "    feat_imp = pd.Series(alg.get_booster().get_fscore()).sort_values(ascending=False)[:25]\n",
    "    feat_imp.plot(kind='bar', title='Feature Importances')\n",
    "    plt.ylabel('Feature Importance Score')\n",
    "    \n",
    "    plt.savefig('D:/Project_data_all_L3S/Process_data/Train_num.png')\n",
    "    print(feat_imp.to_string())"
   ]
  },
  {
   "cell_type": "code",
   "execution_count": 100,
   "metadata": {},
   "outputs": [
    {
     "name": "stdout",
     "output_type": "stream",
     "text": [
      "[0]\ttrain-auc:0.836883+0.0228976\ttest-auc:0.62729+0.0369515\n",
      "[1]\ttrain-auc:0.906753+0.0101542\ttest-auc:0.629641+0.0333655\n",
      "[2]\ttrain-auc:0.954578+0.00413982\ttest-auc:0.652526+0.0336449\n",
      "[3]\ttrain-auc:0.975346+0.0032959\ttest-auc:0.674659+0.0578784\n",
      "[4]\ttrain-auc:0.982261+0.00575406\ttest-auc:0.681996+0.0510314\n",
      "[5]\ttrain-auc:0.988891+0.006768\ttest-auc:0.663105+0.0499083\n",
      "[6]\ttrain-auc:0.991058+0.00428645\ttest-auc:0.661206+0.0577858\n",
      "[7]\ttrain-auc:0.99234+0.00409485\ttest-auc:0.664571+0.0615121\n",
      "[8]\ttrain-auc:0.994436+0.00202184\ttest-auc:0.668815+0.0817746\n",
      "[9]\ttrain-auc:0.995867+0.0011903\ttest-auc:0.664771+0.0747847\n",
      "[10]\ttrain-auc:0.997+0.00079702\ttest-auc:0.669783+0.0680184\n",
      "[11]\ttrain-auc:0.997602+0.0007669\ttest-auc:0.663241+0.0660373\n",
      "[12]\ttrain-auc:0.998231+0.000427034\ttest-auc:0.660031+0.0630878\n",
      "[13]\ttrain-auc:0.998724+0.0002034\ttest-auc:0.657545+0.0587457\n",
      "[14]\ttrain-auc:0.99888+0.000226461\ttest-auc:0.664643+0.0577125\n",
      "[15]\ttrain-auc:0.999036+0.000185189\ttest-auc:0.676461+0.0500038\n",
      "[16]\ttrain-auc:0.999291+0.00011042\ttest-auc:0.669996+0.0506985\n",
      "[17]\ttrain-auc:0.999415+0.000104167\ttest-auc:0.669721+0.0534893\n",
      "[18]\ttrain-auc:0.999556+3.75085e-05\ttest-auc:0.668552+0.0566086\n",
      "[19]\ttrain-auc:0.99967+4.00083e-05\ttest-auc:0.675779+0.0675456\n",
      "[20]\ttrain-auc:0.999752+6.82414e-05\ttest-auc:0.677645+0.075792\n",
      "[21]\ttrain-auc:0.999812+8.31759e-05\ttest-auc:0.677062+0.0759319\n",
      "[22]\ttrain-auc:0.999848+6.96388e-05\ttest-auc:0.67888+0.079838\n",
      "[23]\ttrain-auc:0.999882+6.24037e-05\ttest-auc:0.678043+0.075639\n",
      "[24]\ttrain-auc:0.999897+7.26376e-05\ttest-auc:0.678521+0.0739392\n",
      "[25]\ttrain-auc:0.999912+6.24624e-05\ttest-auc:0.677974+0.0766745\n",
      "[26]\ttrain-auc:0.999932+4.85249e-05\ttest-auc:0.675769+0.0736593\n",
      "[27]\ttrain-auc:0.999942+4.10203e-05\ttest-auc:0.676885+0.0800526\n",
      "[28]\ttrain-auc:0.999953+3.30084e-05\ttest-auc:0.676334+0.0806666\n",
      "[29]\ttrain-auc:0.99996+2.83901e-05\ttest-auc:0.673799+0.077159\n",
      "[30]\ttrain-auc:0.999974+1.81537e-05\ttest-auc:0.676143+0.0741976\n",
      "[31]\ttrain-auc:0.999974+1.81537e-05\ttest-auc:0.675791+0.0726324\n",
      "[32]\ttrain-auc:0.999988+8.34e-06\ttest-auc:0.673845+0.0755146\n",
      "[33]\ttrain-auc:0.999986+1.03387e-05\ttest-auc:0.676152+0.0730638\n",
      "[34]\ttrain-auc:0.999988+8.34e-06\ttest-auc:0.676528+0.0723655\n",
      "[35]\ttrain-auc:0.999994+8.95669e-06\ttest-auc:0.682034+0.0736367\n",
      "[36]\ttrain-auc:0.999996+6.12826e-06\ttest-auc:0.680184+0.074357\n",
      "[37]\ttrain-auc:0.999998+2.82843e-06\ttest-auc:0.675791+0.0758837\n",
      "[38]\ttrain-auc:0.999998+2.82843e-06\ttest-auc:0.672137+0.0764911\n",
      "[39]\ttrain-auc:0.999998+2.82843e-06\ttest-auc:0.66733+0.0753832\n",
      "[40]\ttrain-auc:0.999998+2.82843e-06\ttest-auc:0.672567+0.0773852\n",
      "[41]\ttrain-auc:1+0\ttest-auc:0.670518+0.076958\n",
      "[42]\ttrain-auc:0.999998+2.82843e-06\ttest-auc:0.669804+0.077945\n",
      "[43]\ttrain-auc:0.999998+2.82843e-06\ttest-auc:0.669333+0.0785253\n",
      "[44]\ttrain-auc:1+0\ttest-auc:0.668338+0.0771569\n",
      "[45]\ttrain-auc:1+0\ttest-auc:0.673766+0.0751154\n",
      "[46]\ttrain-auc:1+0\ttest-auc:0.671171+0.074499\n",
      "[47]\ttrain-auc:1+0\ttest-auc:0.672647+0.0760615\n",
      "[48]\ttrain-auc:1+0\ttest-auc:0.673222+0.0760655\n",
      "[49]\ttrain-auc:1+0\ttest-auc:0.6713+0.0760486\n"
     ]
    },
    {
     "name": "stderr",
     "output_type": "stream",
     "text": [
      "C:\\Users\\Rezaul Abedin\\Anaconda3\\lib\\site-packages\\sklearn\\preprocessing\\label.py:219: DataConversionWarning: A column-vector y was passed when a 1d array was expected. Please change the shape of y to (n_samples, ), for example using ravel().\n",
      "  y = column_or_1d(y, warn=True)\n",
      "C:\\Users\\Rezaul Abedin\\Anaconda3\\lib\\site-packages\\sklearn\\preprocessing\\label.py:252: DataConversionWarning: A column-vector y was passed when a 1d array was expected. Please change the shape of y to (n_samples, ), for example using ravel().\n",
      "  y = column_or_1d(y, warn=True)\n"
     ]
    },
    {
     "name": "stdout",
     "output_type": "stream",
     "text": [
      "XGBClassifier(base_score=0.0056, booster='gbtree', colsample_bylevel=1,\n",
      "              colsample_bynode=1, colsample_bytree=0.8, gamma=0.1,\n",
      "              learning_rate=0.05, max_delta_step=0, max_depth=7,\n",
      "              min_child_weight=1, missing=None, n_estimators=50, n_jobs=1,\n",
      "              nthread=4, objective='binary:logistic', random_state=0,\n",
      "              reg_alpha=0, reg_lambda=1, scale_pos_weight=3, seed=1,\n",
      "              silent=None, subsample=0.8, verbosity=1)\n",
      "\n",
      "Model Report\n",
      "AUC Score (Train): 1.000000\n",
      "L3_S33_F3857      29\n",
      "L3_S33_F3865      14\n",
      "L3_S30_F3574      14\n",
      "L3_S30_F3629      14\n",
      "L3_S30_F3829      13\n",
      "L3_S30_F3584      12\n",
      "L3__S32__F3854    11\n",
      "L3_S33_F3859      10\n",
      "L3_S29_F3336       9\n",
      "L3_S30_F3754       9\n",
      "L3_S30_F3709       9\n",
      "L3_S30_F3749       9\n",
      "L0_S12_D331        8\n",
      "L3_S30_F3804       8\n",
      "L3_S30_F3554       8\n",
      "L3_S30_F3759       8\n",
      "L3_S30_F3494       8\n",
      "L3_S29_F3342       7\n",
      "L3_S30_F3519       7\n",
      "L3_S29_F3373       7\n",
      "L0_S5_F116         7\n",
      "L1_S24_F1844       7\n",
      "L0_S0_F20          7\n",
      "L3_S29_F3345       7\n",
      "L3_S30_F3784       6\n"
     ]
    },
    {
     "data": {
      "image/png": "[encoded data removed]",
      "text/plain": [
       "<Figure size 432x288 with 1 Axes>"
      ]
     },
     "metadata": {
      "needs_background": "light"
     },
     "output_type": "display_data"
    }
   ],
   "source": [
    "xgb1 = XGBClassifier(learning_rate=0.05,\n",
    "                     base_score=0.0056,\n",
    "                     n_estimators=50,\n",
    "                     max_depth=7,\n",
    "                     min_child_weight=1,\n",
    "                     gamma=0.1,\n",
    "                     subsample=0.8,\n",
    "                     colsample_bytree=0.8,\n",
    "                     objective='binary:logistic',\n",
    "                     nthread=4,\n",
    "                     scale_pos_weight=3,\n",
    "                     seed=1)\n",
    "modelfit(xgb1, X_all, y_all)"
   ]
  },
  {
   "cell_type": "code",
   "execution_count": 16,
   "metadata": {},
   "outputs": [],
   "source": [
    "import pickle\n",
    "import pandas as pd\n",
    "import numpy as np\n",
    "import xgboost as xgb\n",
    "from xgboost.sklearn import XGBClassifier\n",
    "from sklearn.model_selection import cross_validate\n",
    "from sklearn import metrics\n",
    "\n",
    "\n",
    "import matplotlib.pylab as plt\n",
    "%matplotlib inline\n",
    "from matplotlib.pylab import rcParams\n",
    "rcParams['figure.figsize'] = 12, 4\n"
   ]
  },
  {
   "cell_type": "code",
   "execution_count": null,
   "metadata": {},
   "outputs": [],
   "source": []
  },
  {
   "cell_type": "code",
   "execution_count": 36,
   "metadata": {},
   "outputs": [
    {
     "name": "stdout",
     "output_type": "stream",
     "text": [
      "[0]\ttrain-auc:0.850117+0.0321536\ttest-auc:0.625449+0.00469825\n",
      "[1]\ttrain-auc:0.907921+0.00924154\ttest-auc:0.618973+0.0177543\n",
      "[2]\ttrain-auc:0.942487+0.0092761\ttest-auc:0.615615+0.00479045\n",
      "[3]\ttrain-auc:0.969292+0.00348523\ttest-auc:0.600747+0.0109193\n",
      "[4]\ttrain-auc:0.978344+0.00625632\ttest-auc:0.602053+0.024845\n",
      "[5]\ttrain-auc:0.984444+0.00835666\ttest-auc:0.582752+0.0252754\n",
      "[6]\ttrain-auc:0.988249+0.00502358\ttest-auc:0.571896+0.0145142\n",
      "[7]\ttrain-auc:0.99037+0.0042931\ttest-auc:0.57869+0.011168\n",
      "[8]\ttrain-auc:0.994539+0.00128098\ttest-auc:0.573329+0.0130528\n",
      "[9]\ttrain-auc:0.996462+0.000411051\ttest-auc:0.575337+0.0270372\n",
      "[10]\ttrain-auc:0.997258+7.68433e-05\ttest-auc:0.585352+0.0133692\n",
      "[11]\ttrain-auc:0.998073+1.69378e-05\ttest-auc:0.59884+0.0159171\n",
      "[12]\ttrain-auc:0.998567+0.000103984\ttest-auc:0.601587+0.0253723\n",
      "[13]\ttrain-auc:0.99881+0.000228714\ttest-auc:0.599224+0.0295778\n",
      "[14]\ttrain-auc:0.9991+0.000104148\ttest-auc:0.60744+0.0285222\n",
      "[15]\ttrain-auc:0.999404+4.23399e-05\ttest-auc:0.6154+0.0321178\n",
      "[16]\ttrain-auc:0.999642+9.78309e-05\ttest-auc:0.609327+0.0307546\n",
      "[17]\ttrain-auc:0.999721+6.17468e-05\ttest-auc:0.61492+0.0253161\n",
      "[18]\ttrain-auc:0.999807+2.14631e-05\ttest-auc:0.623844+0.0201551\n",
      "[19]\ttrain-auc:0.999884+2.50377e-05\ttest-auc:0.628702+0.0178485\n",
      "[20]\ttrain-auc:0.999928+4.49469e-05\ttest-auc:0.625037+0.0181351\n",
      "[21]\ttrain-auc:0.99994+4.53897e-05\ttest-auc:0.623286+0.0197864\n",
      "[22]\ttrain-auc:0.999973+2.06074e-05\ttest-auc:0.628517+0.014516\n",
      "[23]\ttrain-auc:0.999979+1.46135e-05\ttest-auc:0.628789+0.0136149\n",
      "[24]\ttrain-auc:0.999986+1.03387e-05\ttest-auc:0.633286+0.0136714\n",
      "[25]\ttrain-auc:0.999998+2.82843e-06\ttest-auc:0.634023+0.0105837\n",
      "[26]\ttrain-auc:0.999998+2.82843e-06\ttest-auc:0.632913+0.00817157\n",
      "[27]\ttrain-auc:0.999998+2.82843e-06\ttest-auc:0.637307+0.00404528\n",
      "[28]\ttrain-auc:0.999998+2.82843e-06\ttest-auc:0.637398+0.00759513\n",
      "[29]\ttrain-auc:0.999998+2.82843e-06\ttest-auc:0.63662+0.00691269\n",
      "[30]\ttrain-auc:0.999998+2.82843e-06\ttest-auc:0.640833+0.0101638\n",
      "[31]\ttrain-auc:1+0\ttest-auc:0.638789+0.0114615\n",
      "[32]\ttrain-auc:1+0\ttest-auc:0.638725+0.00862131\n",
      "[33]\ttrain-auc:1+0\ttest-auc:0.640562+0.00859932\n",
      "[34]\ttrain-auc:1+0\ttest-auc:0.644514+0.0121457\n",
      "[35]\ttrain-auc:1+0\ttest-auc:0.643781+0.0135227\n",
      "[36]\ttrain-auc:1+0\ttest-auc:0.642613+0.0142944\n",
      "[37]\ttrain-auc:1+0\ttest-auc:0.640103+0.0134267\n",
      "[38]\ttrain-auc:1+0\ttest-auc:0.637586+0.0145983\n",
      "[39]\ttrain-auc:1+0\ttest-auc:0.633722+0.014444\n",
      "[40]\ttrain-auc:1+0\ttest-auc:0.634387+0.0153736\n",
      "[41]\ttrain-auc:1+0\ttest-auc:0.634236+0.0171853\n",
      "[42]\ttrain-auc:1+0\ttest-auc:0.632301+0.0189757\n",
      "[43]\ttrain-auc:1+0\ttest-auc:0.634786+0.0216711\n",
      "[44]\ttrain-auc:1+0\ttest-auc:0.634489+0.0186377\n",
      "[45]\ttrain-auc:1+0\ttest-auc:0.633424+0.0205379\n",
      "[46]\ttrain-auc:1+0\ttest-auc:0.632917+0.0213823\n",
      "[47]\ttrain-auc:1+0\ttest-auc:0.634063+0.0238893\n",
      "[48]\ttrain-auc:1+0\ttest-auc:0.63492+0.0252923\n",
      "[49]\ttrain-auc:1+0\ttest-auc:0.634791+0.0216738\n"
     ]
    },
    {
     "name": "stderr",
     "output_type": "stream",
     "text": [
      "C:\\Users\\Rezaul Abedin\\Anaconda3\\lib\\site-packages\\sklearn\\preprocessing\\label.py:219: DataConversionWarning: A column-vector y was passed when a 1d array was expected. Please change the shape of y to (n_samples, ), for example using ravel().\n",
      "  y = column_or_1d(y, warn=True)\n",
      "C:\\Users\\Rezaul Abedin\\Anaconda3\\lib\\site-packages\\sklearn\\preprocessing\\label.py:252: DataConversionWarning: A column-vector y was passed when a 1d array was expected. Please change the shape of y to (n_samples, ), for example using ravel().\n",
      "  y = column_or_1d(y, warn=True)\n"
     ]
    },
    {
     "name": "stdout",
     "output_type": "stream",
     "text": [
      "XGBClassifier(base_score=0.0056, booster='gbtree', colsample_bylevel=1,\n",
      "              colsample_bynode=1, colsample_bytree=0.8, gamma=0,\n",
      "              learning_rate=0.05, max_delta_step=0, max_depth=10,\n",
      "              min_child_weight=1, missing=None, n_estimators=50, n_jobs=1,\n",
      "              nthread=4, objective='binary:logistic', random_state=0,\n",
      "              reg_alpha=0, reg_lambda=1, scale_pos_weight=3, seed=1,\n",
      "              silent=None, subsample=0.8, verbosity=1)\n",
      "\n",
      "Model Report\n",
      "AUC Score (Train): 1.000000\n",
      "L3_S33_F3857    30\n",
      "L3_S33_F3859    22\n",
      "L3_S30_F3574    19\n",
      "L3_S30_F3759    18\n",
      "L3_S33_F3865    17\n",
      "L3_S30_F3629    16\n",
      "L3_S30_F3754    13\n",
      "L3_S30_F3749    13\n",
      "L0_S4_F104      12\n",
      "L3_S30_F3709    12\n",
      "L3_S30_F3829    12\n",
      "L3_S29_F3373    12\n",
      "L3_S29_F3318    11\n",
      "L3_S32_F3850    11\n",
      "L3_S30_F3584    11\n",
      "L3_S30_F3809    11\n",
      "L3_S30_F3744    11\n",
      "L0_S0_F18       10\n",
      "L3_S30_F3494    10\n",
      "L0_S2_F60        9\n",
      "L1_S24_F1514     9\n",
      "L3_S29_F3336     9\n",
      "L3_S30_F3509     9\n",
      "L3_S30_F3524     9\n",
      "L3_S35_F3889     8\n"
     ]
    },
    {
     "data": {
      "image/png": "[encoded data removed]",
      "text/plain": [
       "<Figure size 432x288 with 1 Axes>"
      ]
     },
     "metadata": {
      "needs_background": "light"
     },
     "output_type": "display_data"
    }
   ],
   "source": [
    "\n",
    "xgb1 = XGBClassifier(learning_rate=0.05,\n",
    "                     base_score=0.0056,\n",
    "                     n_estimators=50,\n",
    "                     max_depth=10,\n",
    "                     min_child_weight=1,\n",
    "                     subsample=0.8,\n",
    "                     colsample_bytree=0.8,\n",
    "                     objective='binary:logistic',\n",
    "                     nthread=4,\n",
    "                     scale_pos_weight=3,\n",
    "                     seed=1)\n",
    "modelfit(xgb1, X_all, y_all)"
   ]
  },
  {
   "cell_type": "code",
   "execution_count": 18,
   "metadata": {},
   "outputs": [],
   "source": [
    "import pickle\n",
    "import pandas as pd\n",
    "import numpy as np\n",
    "import xgboost as xgb\n",
    "from xgboost.sklearn import XGBClassifier\n",
    "from sklearn.model_selection import cross_validate\n",
    "from sklearn import metrics \n",
    "\n",
    "import matplotlib.pylab as plt\n",
    "%matplotlib inline\n",
    "from matplotlib.pylab import rcParams\n",
    "rcParams['figure.figsize'] = 12, 4"
   ]
  },
  {
   "cell_type": "code",
   "execution_count": 19,
   "metadata": {},
   "outputs": [
    {
     "name": "stdout",
     "output_type": "stream",
     "text": [
      "[0]\ttrain-auc:0.827238+0.0224249\ttest-auc:0.608725+0.0370183\n",
      "[1]\ttrain-auc:0.872912+0.0168512\ttest-auc:0.635486+0.0507584\n",
      "[2]\ttrain-auc:0.905815+0.00455416\ttest-auc:0.663363+0.0299221\n",
      "[3]\ttrain-auc:0.928631+0.0116673\ttest-auc:0.678089+0.00162537\n",
      "[4]\ttrain-auc:0.942106+0.00743683\ttest-auc:0.710244+0.0372378\n",
      "[5]\ttrain-auc:0.951097+0.0120331\ttest-auc:0.715778+0.051563\n",
      "[6]\ttrain-auc:0.957802+0.011608\ttest-auc:0.712465+0.0509561\n",
      "[7]\ttrain-auc:0.966728+0.00835759\ttest-auc:0.724066+0.0360615\n",
      "[8]\ttrain-auc:0.968181+0.00784922\ttest-auc:0.723963+0.0402496\n",
      "[9]\ttrain-auc:0.972487+0.00553852\ttest-auc:0.728013+0.0357691\n",
      "[10]\ttrain-auc:0.976591+0.0050623\ttest-auc:0.73022+0.0373601\n",
      "[11]\ttrain-auc:0.978321+0.00478354\ttest-auc:0.720209+0.0365839\n",
      "[12]\ttrain-auc:0.980262+0.00493385\ttest-auc:0.720029+0.0400736\n",
      "[13]\ttrain-auc:0.982868+0.00381328\ttest-auc:0.724999+0.0327668\n",
      "[14]\ttrain-auc:0.984511+0.00374568\ttest-auc:0.727766+0.0284782\n",
      "[15]\ttrain-auc:0.985324+0.00307547\ttest-auc:0.722623+0.0320198\n",
      "[16]\ttrain-auc:0.986215+0.00291305\ttest-auc:0.719725+0.033973\n",
      "[17]\ttrain-auc:0.98728+0.00245036\ttest-auc:0.71771+0.0332207\n",
      "[18]\ttrain-auc:0.988241+0.00233992\ttest-auc:0.717915+0.032686\n",
      "[19]\ttrain-auc:0.989122+0.00192897\ttest-auc:0.716014+0.029337\n",
      "[20]\ttrain-auc:0.990489+0.0016962\ttest-auc:0.714519+0.0260402\n",
      "[21]\ttrain-auc:0.99092+0.00153474\ttest-auc:0.72103+0.0213262\n",
      "[22]\ttrain-auc:0.991463+0.00117668\ttest-auc:0.723968+0.0241355\n",
      "[23]\ttrain-auc:0.991995+0.0012325\ttest-auc:0.718341+0.0257911\n",
      "[24]\ttrain-auc:0.992402+0.00111044\ttest-auc:0.717708+0.022157\n",
      "[25]\ttrain-auc:0.992893+0.000830229\ttest-auc:0.715932+0.0200512\n",
      "[26]\ttrain-auc:0.993542+0.00057515\ttest-auc:0.715575+0.0180145\n",
      "[27]\ttrain-auc:0.994158+0.000377334\ttest-auc:0.716723+0.0201828\n",
      "[28]\ttrain-auc:0.994751+0.00040297\ttest-auc:0.719537+0.021577\n",
      "[29]\ttrain-auc:0.9953+0.000240904\ttest-auc:0.721341+0.0203929\n",
      "[30]\ttrain-auc:0.995857+0.00024053\ttest-auc:0.71905+0.0184558\n",
      "[31]\ttrain-auc:0.996098+0.000205057\ttest-auc:0.719607+0.0179184\n",
      "[32]\ttrain-auc:0.996586+0.000250044\ttest-auc:0.715733+0.0168661\n",
      "[33]\ttrain-auc:0.996774+0.000118924\ttest-auc:0.71326+0.0188091\n",
      "[34]\ttrain-auc:0.996953+0.000156189\ttest-auc:0.712834+0.0223875\n",
      "[35]\ttrain-auc:0.997291+0.00010121\ttest-auc:0.708667+0.0224259\n",
      "[36]\ttrain-auc:0.997495+7.8702e-05\ttest-auc:0.708491+0.0217854\n",
      "[37]\ttrain-auc:0.997729+0.000140794\ttest-auc:0.707916+0.0220059\n",
      "[38]\ttrain-auc:0.997865+0.000225291\ttest-auc:0.709048+0.0213447\n",
      "[39]\ttrain-auc:0.998035+0.0001496\ttest-auc:0.71093+0.0189736\n",
      "[40]\ttrain-auc:0.998214+0.000163407\ttest-auc:0.710475+0.0183771\n",
      "[41]\ttrain-auc:0.998318+0.000212943\ttest-auc:0.709557+0.0162374\n",
      "[42]\ttrain-auc:0.998421+0.000203255\ttest-auc:0.709422+0.0179453\n",
      "[43]\ttrain-auc:0.998591+0.000149234\ttest-auc:0.7096+0.0194872\n",
      "[44]\ttrain-auc:0.998665+0.000156111\ttest-auc:0.70828+0.0175801\n",
      "[45]\ttrain-auc:0.998789+9.64722e-05\ttest-auc:0.707366+0.0155824\n",
      "[46]\ttrain-auc:0.998944+0.000111977\ttest-auc:0.706926+0.0165629\n",
      "[47]\ttrain-auc:0.99898+5.4997e-05\ttest-auc:0.707607+0.0154191\n",
      "[48]\ttrain-auc:0.999062+5.35433e-05\ttest-auc:0.708885+0.0127947\n",
      "[49]\ttrain-auc:0.999135+6.62135e-05\ttest-auc:0.707847+0.0125944\n"
     ]
    },
    {
     "name": "stderr",
     "output_type": "stream",
     "text": [
      "C:\\ProgramData\\Anaconda3\\lib\\site-packages\\sklearn\\preprocessing\\label.py:219: DataConversionWarning: A column-vector y was passed when a 1d array was expected. Please change the shape of y to (n_samples, ), for example using ravel().\n",
      "  y = column_or_1d(y, warn=True)\n",
      "C:\\ProgramData\\Anaconda3\\lib\\site-packages\\sklearn\\preprocessing\\label.py:252: DataConversionWarning: A column-vector y was passed when a 1d array was expected. Please change the shape of y to (n_samples, ), for example using ravel().\n",
      "  y = column_or_1d(y, warn=True)\n"
     ]
    },
    {
     "name": "stdout",
     "output_type": "stream",
     "text": [
      "XGBClassifier(base_score=0.0056, booster='gbtree', colsample_bylevel=1,\n",
      "       colsample_bynode=1, colsample_bytree=0.8, gamma=0.1,\n",
      "       learning_rate=0.05, max_delta_step=0, max_depth=10,\n",
      "       min_child_weight=1, missing=None, n_estimators=50, n_jobs=1,\n",
      "       nthread=4, objective='binary:logistic', random_state=0, reg_alpha=0,\n",
      "       reg_lambda=1, scale_pos_weight=3, seed=1, silent=None,\n",
      "       subsample=0.8, verbosity=1)\n",
      "\n",
      "Model Report\n",
      "AUC Score (Train): 0.998531\n",
      "L3_S35_D3886    50\n",
      "L3_S29_D3316    44\n",
      "L3_S33_D3856    42\n",
      "L0_S0_D1        35\n",
      "L3_S36_D3919    32\n",
      "L3_S32_D3852    27\n",
      "L0_S2_D34       24\n",
      "L0_S7_D137      23\n",
      "L0_S9_D152      22\n",
      "L0_S3_D70       22\n",
      "L2_S26_D3037    22\n",
      "L3_S29_D3474    21\n",
      "L0_S6_D120      21\n",
      "L0_S5_D115      21\n",
      "L0_S4_D106      21\n",
      "L1_S24_D1583    20\n",
      "L0_S1_D26       19\n",
      "L0_S11_D280     18\n",
      "L0_S10_D216     18\n",
      "L3_S34_D3875    17\n",
      "L1_S24_D1809    15\n",
      "L1_S24_D1511    15\n",
      "L0_S15_D395     14\n",
      "L0_S19_D454     14\n",
      "L0_S12_D331     13\n"
     ]
    },
    {
     "data": {
      "image/png": "[encoded data removed]",
      "text/plain": [
       "<Figure size 864x288 with 1 Axes>"
      ]
     },
     "metadata": {
      "needs_background": "light"
     },
     "output_type": "display_data"
    }
   ],
   "source": [
    "y_all = pd.read_csv(\"D:/Project/Sample data/pkl/labels_y.csv\", index_col=0,)\n",
    "\n",
    "pkl_file3 = open('D:/Project/Sample data/train_date_df/train_date_df.pkl', 'rb')\n",
    "X_all = pickle.load(pkl_file3)\n",
    "\n",
    "xgb1 = XGBClassifier(learning_rate=0.05,\n",
    "                     base_score=0.0056,\n",
    "                     n_estimators=50,\n",
    "                     max_depth=10,\n",
    "                     min_child_weight=1,\n",
    "                     gamma=0.1,\n",
    "                     subsample=0.8,\n",
    "                     colsample_bytree=0.8,\n",
    "                     objective='binary:logistic',\n",
    "                     nthread=4,\n",
    "                     scale_pos_weight=3,\n",
    "                     seed=1)\n",
    "modelfit(xgb1, X_all, y_all)"
   ]
  },
  {
   "cell_type": "code",
   "execution_count": 4,
   "metadata": {},
   "outputs": [],
   "source": [
    "import pickle\n",
    "import pandas as pd\n",
    "import numpy as np\n",
    "import xgboost as xgb\n",
    "from xgboost.sklearn import XGBClassifier\n",
    "from sklearn.model_selection import cross_validate\n",
    "from sklearn import metrics   \n",
    "\n",
    "import matplotlib.pylab as plt\n",
    "%matplotlib inline\n",
    "from matplotlib.pylab import rcParams\n",
    "rcParams['figure.figsize'] = 12, 4"
   ]
  },
  {
   "cell_type": "code",
   "execution_count": 5,
   "metadata": {},
   "outputs": [
    {
     "ename": "XGBoostError",
     "evalue": "Invalid Parameter format for seed expect int but value='False'",
     "output_type": "error",
     "traceback": [
      "\u001b[1;31m---------------------------------------------------------------------------\u001b[0m",
      "\u001b[1;31mXGBoostError\u001b[0m                              Traceback (most recent call last)",
      "\u001b[1;32m<ipython-input-5-49ed9a272406>\u001b[0m in \u001b[0;36m<module>\u001b[1;34m\u001b[0m\n\u001b[0;32m      6\u001b[0m \u001b[0mxgb1\u001b[0m \u001b[1;33m=\u001b[0m \u001b[0mXGBClassifier\u001b[0m\u001b[1;33m(\u001b[0m\u001b[0mrandom_state\u001b[0m\u001b[1;33m=\u001b[0m\u001b[1;32mFalse\u001b[0m\u001b[1;33m)\u001b[0m\u001b[1;33m\u001b[0m\u001b[1;33m\u001b[0m\u001b[0m\n\u001b[0;32m      7\u001b[0m \u001b[1;31m#modelfit(xgb1, X_all, y_all)\u001b[0m\u001b[1;33m\u001b[0m\u001b[1;33m\u001b[0m\u001b[1;33m\u001b[0m\u001b[0m\n\u001b[1;32m----> 8\u001b[1;33m \u001b[0mxgb1\u001b[0m\u001b[1;33m.\u001b[0m\u001b[0mfit\u001b[0m\u001b[1;33m(\u001b[0m\u001b[0mX_all\u001b[0m\u001b[1;33m,\u001b[0m \u001b[0my_all\u001b[0m\u001b[1;33m)\u001b[0m\u001b[1;33m\u001b[0m\u001b[1;33m\u001b[0m\u001b[0m\n\u001b[0m",
      "\u001b[1;32m~\\Anaconda3\\lib\\site-packages\\xgboost\\sklearn.py\u001b[0m in \u001b[0;36mfit\u001b[1;34m(self, X, y, sample_weight, eval_set, eval_metric, early_stopping_rounds, verbose, xgb_model, sample_weight_eval_set, callbacks)\u001b[0m\n\u001b[0;32m    730\u001b[0m                               \u001b[0mevals_result\u001b[0m\u001b[1;33m=\u001b[0m\u001b[0mevals_result\u001b[0m\u001b[1;33m,\u001b[0m \u001b[0mobj\u001b[0m\u001b[1;33m=\u001b[0m\u001b[0mobj\u001b[0m\u001b[1;33m,\u001b[0m \u001b[0mfeval\u001b[0m\u001b[1;33m=\u001b[0m\u001b[0mfeval\u001b[0m\u001b[1;33m,\u001b[0m\u001b[1;33m\u001b[0m\u001b[1;33m\u001b[0m\u001b[0m\n\u001b[0;32m    731\u001b[0m                               \u001b[0mverbose_eval\u001b[0m\u001b[1;33m=\u001b[0m\u001b[0mverbose\u001b[0m\u001b[1;33m,\u001b[0m \u001b[0mxgb_model\u001b[0m\u001b[1;33m=\u001b[0m\u001b[0mxgb_model\u001b[0m\u001b[1;33m,\u001b[0m\u001b[1;33m\u001b[0m\u001b[1;33m\u001b[0m\u001b[0m\n\u001b[1;32m--> 732\u001b[1;33m                               callbacks=callbacks)\n\u001b[0m\u001b[0;32m    733\u001b[0m \u001b[1;33m\u001b[0m\u001b[0m\n\u001b[0;32m    734\u001b[0m         \u001b[0mself\u001b[0m\u001b[1;33m.\u001b[0m\u001b[0mobjective\u001b[0m \u001b[1;33m=\u001b[0m \u001b[0mxgb_options\u001b[0m\u001b[1;33m[\u001b[0m\u001b[1;34m\"objective\"\u001b[0m\u001b[1;33m]\u001b[0m\u001b[1;33m\u001b[0m\u001b[1;33m\u001b[0m\u001b[0m\n",
      "\u001b[1;32m~\\Anaconda3\\lib\\site-packages\\xgboost\\training.py\u001b[0m in \u001b[0;36mtrain\u001b[1;34m(params, dtrain, num_boost_round, evals, obj, feval, maximize, early_stopping_rounds, evals_result, verbose_eval, xgb_model, callbacks, learning_rates)\u001b[0m\n\u001b[0;32m    214\u001b[0m                            \u001b[0mevals\u001b[0m\u001b[1;33m=\u001b[0m\u001b[0mevals\u001b[0m\u001b[1;33m,\u001b[0m\u001b[1;33m\u001b[0m\u001b[1;33m\u001b[0m\u001b[0m\n\u001b[0;32m    215\u001b[0m                            \u001b[0mobj\u001b[0m\u001b[1;33m=\u001b[0m\u001b[0mobj\u001b[0m\u001b[1;33m,\u001b[0m \u001b[0mfeval\u001b[0m\u001b[1;33m=\u001b[0m\u001b[0mfeval\u001b[0m\u001b[1;33m,\u001b[0m\u001b[1;33m\u001b[0m\u001b[1;33m\u001b[0m\u001b[0m\n\u001b[1;32m--> 216\u001b[1;33m                            xgb_model=xgb_model, callbacks=callbacks)\n\u001b[0m\u001b[0;32m    217\u001b[0m \u001b[1;33m\u001b[0m\u001b[0m\n\u001b[0;32m    218\u001b[0m \u001b[1;33m\u001b[0m\u001b[0m\n",
      "\u001b[1;32m~\\Anaconda3\\lib\\site-packages\\xgboost\\training.py\u001b[0m in \u001b[0;36m_train_internal\u001b[1;34m(params, dtrain, num_boost_round, evals, obj, feval, xgb_model, callbacks)\u001b[0m\n\u001b[0;32m     72\u001b[0m         \u001b[1;31m# Skip the first update if it is a recovery step.\u001b[0m\u001b[1;33m\u001b[0m\u001b[1;33m\u001b[0m\u001b[1;33m\u001b[0m\u001b[0m\n\u001b[0;32m     73\u001b[0m         \u001b[1;32mif\u001b[0m \u001b[0mversion\u001b[0m \u001b[1;33m%\u001b[0m \u001b[1;36m2\u001b[0m \u001b[1;33m==\u001b[0m \u001b[1;36m0\u001b[0m\u001b[1;33m:\u001b[0m\u001b[1;33m\u001b[0m\u001b[1;33m\u001b[0m\u001b[0m\n\u001b[1;32m---> 74\u001b[1;33m             \u001b[0mbst\u001b[0m\u001b[1;33m.\u001b[0m\u001b[0mupdate\u001b[0m\u001b[1;33m(\u001b[0m\u001b[0mdtrain\u001b[0m\u001b[1;33m,\u001b[0m \u001b[0mi\u001b[0m\u001b[1;33m,\u001b[0m \u001b[0mobj\u001b[0m\u001b[1;33m)\u001b[0m\u001b[1;33m\u001b[0m\u001b[1;33m\u001b[0m\u001b[0m\n\u001b[0m\u001b[0;32m     75\u001b[0m             \u001b[0mbst\u001b[0m\u001b[1;33m.\u001b[0m\u001b[0msave_rabit_checkpoint\u001b[0m\u001b[1;33m(\u001b[0m\u001b[1;33m)\u001b[0m\u001b[1;33m\u001b[0m\u001b[1;33m\u001b[0m\u001b[0m\n\u001b[0;32m     76\u001b[0m             \u001b[0mversion\u001b[0m \u001b[1;33m+=\u001b[0m \u001b[1;36m1\u001b[0m\u001b[1;33m\u001b[0m\u001b[1;33m\u001b[0m\u001b[0m\n",
      "\u001b[1;32m~\\Anaconda3\\lib\\site-packages\\xgboost\\core.py\u001b[0m in \u001b[0;36mupdate\u001b[1;34m(self, dtrain, iteration, fobj)\u001b[0m\n\u001b[0;32m   1107\u001b[0m         \u001b[1;32mif\u001b[0m \u001b[0mfobj\u001b[0m \u001b[1;32mis\u001b[0m \u001b[1;32mNone\u001b[0m\u001b[1;33m:\u001b[0m\u001b[1;33m\u001b[0m\u001b[1;33m\u001b[0m\u001b[0m\n\u001b[0;32m   1108\u001b[0m             _check_call(_LIB.XGBoosterUpdateOneIter(self.handle, ctypes.c_int(iteration),\n\u001b[1;32m-> 1109\u001b[1;33m                                                     dtrain.handle))\n\u001b[0m\u001b[0;32m   1110\u001b[0m         \u001b[1;32melse\u001b[0m\u001b[1;33m:\u001b[0m\u001b[1;33m\u001b[0m\u001b[1;33m\u001b[0m\u001b[0m\n\u001b[0;32m   1111\u001b[0m             \u001b[0mpred\u001b[0m \u001b[1;33m=\u001b[0m \u001b[0mself\u001b[0m\u001b[1;33m.\u001b[0m\u001b[0mpredict\u001b[0m\u001b[1;33m(\u001b[0m\u001b[0mdtrain\u001b[0m\u001b[1;33m)\u001b[0m\u001b[1;33m\u001b[0m\u001b[1;33m\u001b[0m\u001b[0m\n",
      "\u001b[1;32m~\\Anaconda3\\lib\\site-packages\\xgboost\\core.py\u001b[0m in \u001b[0;36m_check_call\u001b[1;34m(ret)\u001b[0m\n\u001b[0;32m    174\u001b[0m     \"\"\"\n\u001b[0;32m    175\u001b[0m     \u001b[1;32mif\u001b[0m \u001b[0mret\u001b[0m \u001b[1;33m!=\u001b[0m \u001b[1;36m0\u001b[0m\u001b[1;33m:\u001b[0m\u001b[1;33m\u001b[0m\u001b[1;33m\u001b[0m\u001b[0m\n\u001b[1;32m--> 176\u001b[1;33m         \u001b[1;32mraise\u001b[0m \u001b[0mXGBoostError\u001b[0m\u001b[1;33m(\u001b[0m\u001b[0mpy_str\u001b[0m\u001b[1;33m(\u001b[0m\u001b[0m_LIB\u001b[0m\u001b[1;33m.\u001b[0m\u001b[0mXGBGetLastError\u001b[0m\u001b[1;33m(\u001b[0m\u001b[1;33m)\u001b[0m\u001b[1;33m)\u001b[0m\u001b[1;33m)\u001b[0m\u001b[1;33m\u001b[0m\u001b[1;33m\u001b[0m\u001b[0m\n\u001b[0m\u001b[0;32m    177\u001b[0m \u001b[1;33m\u001b[0m\u001b[0m\n\u001b[0;32m    178\u001b[0m \u001b[1;33m\u001b[0m\u001b[0m\n",
      "\u001b[1;31mXGBoostError\u001b[0m: Invalid Parameter format for seed expect int but value='False'"
     ]
    }
   ],
   "source": [
    "y_all = pd.read_csv(\"D:/Project/Sample data/pkl/labels_y.csv\", index_col=0,)\n",
    "\n",
    "pkl_file3 = open('D:/Project/Sample data/train_cat_df/train_cat_df.pkl', 'rb')\n",
    "X_all = pickle.load(pkl_file3)\n",
    "\n",
    "xgb1 = XGBClassifier(random_state=False)\n",
    "#modelfit(xgb1, X_all, y_all)\n",
    "xgb1.fit(X_all, y_all)"
   ]
  },
  {
   "cell_type": "code",
   "execution_count": 40,
   "metadata": {},
   "outputs": [
    {
     "name": "stdout",
     "output_type": "stream",
     "text": [
      "[0. 0. 0. ... 0. 0. 0.]\n"
     ]
    }
   ],
   "source": [
    "from xgboost import plot_importance\n",
    "from matplotlib import pyplot\n",
    "print(xgb1.feature_importances_)"
   ]
  },
  {
   "cell_type": "code",
   "execution_count": 41,
   "metadata": {},
   "outputs": [
    {
     "data": {
      "image/png": "[encoded data removed]",
      "text/plain": [
       "<Figure size 864x288 with 1 Axes>"
      ]
     },
     "metadata": {
      "needs_background": "light"
     },
     "output_type": "display_data"
    }
   ],
   "source": [
    "\n",
    "plot_importance(xgb1)\n",
    "pyplot.show()"
   ]
  },
  {
   "cell_type": "code",
   "execution_count": 32,
   "metadata": {},
   "outputs": [
    {
     "data": {
      "image/png": "[encoded data removed]",
      "text/plain": [
       "<Figure size 864x288 with 1 Axes>"
      ]
     },
     "metadata": {
      "needs_background": "light"
     },
     "output_type": "display_data"
    }
   ],
   "source": [
    "plot_importance(xgb1)\n",
    "pyplot.show()"
   ]
  },
  {
   "cell_type": "code",
   "execution_count": 14,
   "metadata": {},
   "outputs": [
    {
     "name": "stdout",
     "output_type": "stream",
     "text": [
      "[0]\ttrain-auc:0.489881+0.0113328\ttest-auc:0.478065+0.0210124\n",
      "[1]\ttrain-auc:0.547309+0.042374\ttest-auc:0.465291+0.0122166\n",
      "[2]\ttrain-auc:0.544926+0.0482293\ttest-auc:0.478382+0.0622256\n",
      "[3]\ttrain-auc:0.566091+0.0372623\ttest-auc:0.504701+0.0399694\n",
      "[4]\ttrain-auc:0.562429+0.0361501\ttest-auc:0.491234+0.0260406\n",
      "[5]\ttrain-auc:0.567695+0.0292234\ttest-auc:0.497636+0.0278756\n",
      "[6]\ttrain-auc:0.568322+0.0293462\ttest-auc:0.498062+0.0277611\n",
      "[7]\ttrain-auc:0.568742+0.0282105\ttest-auc:0.495925+0.0264914\n",
      "[8]\ttrain-auc:0.573288+0.0254048\ttest-auc:0.494858+0.024302\n",
      "[9]\ttrain-auc:0.575445+0.028674\ttest-auc:0.53869+0.0550025\n",
      "[10]\ttrain-auc:0.575839+0.0291903\ttest-auc:0.538718+0.054974\n",
      "[11]\ttrain-auc:0.578667+0.0295697\ttest-auc:0.502056+0.0172334\n",
      "[12]\ttrain-auc:0.579162+0.0291013\ttest-auc:0.541247+0.0553582\n",
      "[13]\ttrain-auc:0.593321+0.0165166\ttest-auc:0.545514+0.0527032\n",
      "[14]\ttrain-auc:0.592388+0.013467\ttest-auc:0.548722+0.0507482\n",
      "[15]\ttrain-auc:0.595979+0.0149097\ttest-auc:0.54673+0.0535422\n",
      "[16]\ttrain-auc:0.594927+0.0142286\ttest-auc:0.5491+0.0498471\n",
      "[17]\ttrain-auc:0.596554+0.0132406\ttest-auc:0.551308+0.0503864\n",
      "[18]\ttrain-auc:0.594865+0.0138683\ttest-auc:0.550956+0.0499361\n",
      "[19]\ttrain-auc:0.597785+0.0156663\ttest-auc:0.549924+0.0479888\n",
      "[20]\ttrain-auc:0.598214+0.0164463\ttest-auc:0.546964+0.0516324\n",
      "[21]\ttrain-auc:0.596069+0.0194268\ttest-auc:0.547102+0.0502349\n",
      "[22]\ttrain-auc:0.592603+0.0232668\ttest-auc:0.535596+0.0507449\n",
      "[23]\ttrain-auc:0.599768+0.0213682\ttest-auc:0.555797+0.0371611\n",
      "[24]\ttrain-auc:0.592849+0.0291215\ttest-auc:0.521481+0.0190399\n",
      "[25]\ttrain-auc:0.592457+0.0290496\ttest-auc:0.520746+0.0177364\n",
      "[26]\ttrain-auc:0.593497+0.0293581\ttest-auc:0.520855+0.0202179\n",
      "[27]\ttrain-auc:0.598093+0.0263024\ttest-auc:0.537746+0.0372112\n",
      "[28]\ttrain-auc:0.604459+0.0221301\ttest-auc:0.562096+0.0382238\n",
      "[29]\ttrain-auc:0.61262+0.0195124\ttest-auc:0.582686+0.0463668\n",
      "[30]\ttrain-auc:0.610677+0.0184058\ttest-auc:0.5816+0.04429\n",
      "[31]\ttrain-auc:0.614928+0.0236888\ttest-auc:0.587615+0.0374094\n",
      "[32]\ttrain-auc:0.61501+0.0239693\ttest-auc:0.58646+0.0377819\n",
      "[33]\ttrain-auc:0.61566+0.0248262\ttest-auc:0.587159+0.0368469\n",
      "[34]\ttrain-auc:0.619177+0.0212546\ttest-auc:0.576924+0.0388285\n",
      "[35]\ttrain-auc:0.619088+0.0242836\ttest-auc:0.592147+0.0376553\n",
      "[36]\ttrain-auc:0.617653+0.0243714\ttest-auc:0.591436+0.0384349\n",
      "[37]\ttrain-auc:0.614562+0.0245658\ttest-auc:0.585669+0.0378141\n",
      "[38]\ttrain-auc:0.613366+0.0256848\ttest-auc:0.572032+0.0407449\n",
      "[39]\ttrain-auc:0.614436+0.0270867\ttest-auc:0.573327+0.0398761\n",
      "[40]\ttrain-auc:0.620851+0.0209571\ttest-auc:0.58079+0.035876\n",
      "[41]\ttrain-auc:0.620983+0.0213093\ttest-auc:0.58122+0.0355862\n",
      "[42]\ttrain-auc:0.621493+0.0220402\ttest-auc:0.580486+0.0361469\n",
      "[43]\ttrain-auc:0.620681+0.0221748\ttest-auc:0.59606+0.0380734\n",
      "[44]\ttrain-auc:0.625765+0.0210615\ttest-auc:0.582612+0.0409392\n",
      "[45]\ttrain-auc:0.623577+0.0200876\ttest-auc:0.595588+0.0371496\n",
      "[46]\ttrain-auc:0.625266+0.0204553\ttest-auc:0.59607+0.0367353\n",
      "[47]\ttrain-auc:0.627933+0.0204113\ttest-auc:0.592579+0.0367681\n",
      "[48]\ttrain-auc:0.626676+0.0187372\ttest-auc:0.59344+0.0363877\n",
      "[49]\ttrain-auc:0.630446+0.0164488\ttest-auc:0.594914+0.0421128\n"
     ]
    },
    {
     "name": "stderr",
     "output_type": "stream",
     "text": [
      "C:\\Users\\Rezaul Abedin\\Anaconda3\\lib\\site-packages\\sklearn\\preprocessing\\label.py:219: DataConversionWarning: A column-vector y was passed when a 1d array was expected. Please change the shape of y to (n_samples, ), for example using ravel().\n",
      "  y = column_or_1d(y, warn=True)\n",
      "C:\\Users\\Rezaul Abedin\\Anaconda3\\lib\\site-packages\\sklearn\\preprocessing\\label.py:252: DataConversionWarning: A column-vector y was passed when a 1d array was expected. Please change the shape of y to (n_samples, ), for example using ravel().\n",
      "  y = column_or_1d(y, warn=True)\n"
     ]
    },
    {
     "name": "stdout",
     "output_type": "stream",
     "text": [
      "XGBClassifier(base_score=0.0056, booster='gbtree', colsample_bylevel=1,\n",
      "              colsample_bynode=1, colsample_bytree=0.8, gamma=0,\n",
      "              learning_rate=0.05, max_delta_step=0, max_depth=10,\n",
      "              min_child_weight=3, missing=None, n_estimators=50, n_jobs=1,\n",
      "              nthread=4, objective='binary:logistic', random_state=0,\n",
      "              reg_alpha=0, reg_lambda=1, scale_pos_weight=3, seed=1,\n",
      "              silent=None, subsample=0.5, verbosity=1)\n",
      "\n",
      "Model Report\n",
      "AUC Score (Train): 0.657006\n",
      "L2__S26__F3038    33\n",
      "L3__S29__F3317    24\n",
      "L3__S29__F3475    20\n",
      "L2__S26__F3099    19\n",
      "L1__S24__F1584    16\n",
      "L2__S27__F3131    11\n",
      "L1__S24__F1510    10\n",
      "L1__S24__F1530    10\n",
      "L1__S24__F1559     5\n",
      "L3__S29__F3478     5\n",
      "L1__S24__F1675     4\n",
      "L2__S26__F3042     4\n",
      "L1__S24__F1588     2\n",
      "L3__S29__F3320     2\n",
      "L3__S47__F4141     2\n",
      "L1__S24__F1592     1\n",
      "L1__S24__F1525     1\n",
      "L2__S27__F3135     1\n",
      "L1__S24__F1679     1\n",
      "L3__S29__F3323     1\n"
     ]
    },
    {
     "data": {
      "image/png": "[encoded data removed]",
      "text/plain": [
       "<Figure size 864x288 with 1 Axes>"
      ]
     },
     "metadata": {
      "needs_background": "light"
     },
     "output_type": "display_data"
    }
   ],
   "source": [
    "y_all = pd.read_csv(\"D:/Project/Sample data/pkl/labels_y.csv\", index_col=0,)\n",
    "\n",
    "pkl_file3 = open('D:/Project/Sample data/train_cat_df/train_cat_df.pkl', 'rb')\n",
    "X_all = pickle.load(pkl_file3)\n",
    "\n",
    "xgb1 = XGBClassifier(learning_rate=0.05,\n",
    "                     base_score=0.0056,\n",
    "                     n_estimators=50,\n",
    "                     max_depth=10,\n",
    "                     min_child_weight=3,\n",
    "                     subsample=0.5,\n",
    "                     colsample_bytree=0.8,\n",
    "                     objective='binary:logistic',\n",
    "                     nthread=4,\n",
    "                     scale_pos_weight=3,\n",
    "                     seed=1)\n",
    "modelfit(xgb1, X_all, y_all)"
   ]
  },
  {
   "cell_type": "code",
   "execution_count": null,
   "metadata": {},
   "outputs": [],
   "source": []
  }
 ],
 "metadata": {
  "kernelspec": {
   "display_name": "Python 3",
   "language": "python",
   "name": "python3"
  },
  "language_info": {
   "codemirror_mode": {
    "name": "ipython",
    "version": 3
   },
   "file_extension": ".py",
   "mimetype": "text/x-python",
   "name": "python",
   "nbconvert_exporter": "python",
   "pygments_lexer": "ipython3",
   "version": "3.7.3"
  }
 },
 "nbformat": 4,
 "nbformat_minor": 2
}
