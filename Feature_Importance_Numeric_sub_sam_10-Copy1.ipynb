{
 "cells": [
  {
   "cell_type": "code",
   "execution_count": 1,
   "metadata": {},
   "outputs": [],
   "source": [
    "import sys\n",
    "import time\n",
    "import numpy as np\n",
    "import pandas as pd\n",
    "from scipy.stats import skew, boxcox\n",
    "from sklearn.preprocessing import StandardScaler\n",
    "from sklearn.model_selection import cross_validate\n",
    "from sklearn import metrics\n",
    "from xgboost import plot_importance\n",
    "from matplotlib import pyplot\n"
   ]
  },
  {
   "cell_type": "code",
   "execution_count": 2,
   "metadata": {},
   "outputs": [],
   "source": [
    "import matplotlib.pylab as plt\n",
    "from matplotlib.pylab import rcParams\n",
    "rcParams['figure.figsize'] = 7, 3"
   ]
  },
  {
   "cell_type": "code",
   "execution_count": 3,
   "metadata": {},
   "outputs": [
    {
     "name": "stdout",
     "output_type": "stream",
     "text": [
      "Start Time:  2019-09-30 22:54:39.362779\n"
     ]
    }
   ],
   "source": [
    "from datetime import datetime\n",
    "print('Start Time: ', str(datetime.now()))"
   ]
  },
  {
   "cell_type": "code",
   "execution_count": 4,
   "metadata": {},
   "outputs": [],
   "source": [
    "import csv\n",
    "import gc\n",
    "def get_data(directory, file_list, chunksize, data_type_list = None, use_col_list = None):\n",
    "    # type: (str, list, list, list) -> pd.DataFrame\n",
    "    \"\"\"\n",
    "    :param directory: input directory location\n",
    "    :param file_list: list of files to read\n",
    "    :param data_type_list: list of data types for each file (ex. int, str, etc)\n",
    "    :param use_col_list: list of columns to read from\n",
    "    :return: dataframe of all files\n",
    "    \"\"\"\n",
    "\n",
    "    data = None\n",
    "    for i, file_name in enumerate(file_list):\n",
    "        #print (file_name)\n",
    "        subset = None\n",
    "        for j, chunk in enumerate(\n",
    "                pd.read_csv(directory + file_name, chunksize=chunksize, low_memory=False, index_col=0)):\n",
    "            #print (j)\n",
    "            if subset is None:\n",
    "                subset = chunk.copy()\n",
    "            else:\n",
    "                subset = pd.concat([subset, chunk])\n",
    "            del chunk\n",
    "            gc.collect()\n",
    "        if data is None:\n",
    "            data = subset.copy()\n",
    "        else:\n",
    "            data = pd.merge(data, subset.copy(), on=\"Id\")\n",
    "        del subset\n",
    "        gc.collect()\n",
    "\n",
    "    return data\n"
   ]
  },
  {
   "cell_type": "code",
   "execution_count": 5,
   "metadata": {},
   "outputs": [
    {
     "name": "stdout",
     "output_type": "stream",
     "text": [
      "Index(['L0_S0_F0', 'L0_S0_F2', 'L0_S0_F4', 'L0_S0_F6', 'L0_S0_F8', 'L0_S0_F10',\n",
      "       'L0_S0_F12', 'L0_S0_F14', 'L0_S0_F16', 'L0_S0_F18',\n",
      "       ...\n",
      "       'L3_S50_F4243', 'L3_S50_F4245', 'L3_S50_F4247', 'L3_S50_F4249',\n",
      "       'L3_S50_F4251', 'L3_S50_F4253', 'L3_S51_F4256', 'L3_S51_F4258',\n",
      "       'L3_S51_F4260', 'L3_S51_F4262'],\n",
      "      dtype='object', length=968)\n"
     ]
    }
   ],
   "source": [
    "train = get_data('D:/Project/Sample data/', ['train_numeric_5.csv'], 10000)\n",
    "#print(train.head())\n",
    "columns = train.drop([\"Response\"], axis=1).columns\n",
    "print(columns)\n",
    "# frac = float(sys.argv[1])\n",
    "# num = int(sys.argv[2])\n",
    "# print('frac:', frac)\n",
    "# print('num:', num)"
   ]
  },
  {
   "cell_type": "code",
   "execution_count": 6,
   "metadata": {},
   "outputs": [],
   "source": [
    "def getSample(frac):\n",
    "    data =train.sample(frac=frac)\n",
    "    return data"
   ]
  },
  {
   "cell_type": "code",
   "execution_count": 7,
   "metadata": {},
   "outputs": [],
   "source": [
    "\n",
    "\n",
    "def modelfit(alg, X_all, y_all,i, useTrainCV=True, cv_folds=3, early_stopping_rounds=50):\n",
    "    import xgboost as xgb\n",
    "\n",
    "\n",
    "    if useTrainCV:\n",
    "        xgb_param = alg.get_xgb_params()\n",
    "        xgtrain = xgb.DMatrix(X_all, label=y_all)\n",
    "        cvresult = xgb.cv(xgb_param, xgtrain, num_boost_round=alg.get_params()['n_estimators'], nfold=cv_folds,\n",
    "                          metrics='auc', early_stopping_rounds=early_stopping_rounds, verbose_eval=1)\n",
    "        alg.set_params(n_estimators=cvresult.shape[0])\n",
    "    \n",
    "    #Fit the algorithm on the data\n",
    "    alg.fit(X_all, y_all, eval_metric=['auc'])\n",
    "    \n",
    "    print(alg)\n",
    "        \n",
    "    #Predict training set:\n",
    "    dtrain_predictions = alg.predict(X_all)\n",
    "    dtrain_predprob = alg.predict_proba(X_all)[:,1]\n",
    "    \n",
    "    sorted_idx = np.argsort(alg.feature_importances_)[::-1]\n",
    "    f_name = []\n",
    "    score = []\n",
    "    print('Important Features:')\n",
    "    for index in sorted_idx:\n",
    "        f_name.append(columns[index])\n",
    "        score.append(alg.feature_importances_[index])\n",
    "    im_Feature= pd.DataFrame(f_name, columns =[\"f_name\"])\n",
    "    im_Feature[\"score\"] = score\n",
    "    im_Feature=im_Feature.head(49)\n",
    "    out_file = \"D:/input output csv_10\" + \"/data_{}.csv\".format(i+1)\n",
    "\n",
    "    im_Feature.to_csv(out_file)\n",
    "    print(im_Feature.head())\n",
    "    #Print model report:\n",
    "    print(\"AUC Score (Train): %f\" % metrics.roc_auc_score(y_all, dtrain_predprob))\n",
    "\n",
    "    out_file = \"D:/input output csv_10\" + \"/data_{}.png\".format(i+1)\n",
    "\n",
    "    feat_imp = pd.Series(alg.get_booster().get_fscore()).sort_values(ascending=False)[:25]\n",
    "    feat_imp.plot(kind='bar', title='Feature Importances')\n",
    "    plt.ylabel('Feature Importance Score')\n",
    "    plt.savefig(out_file)\n",
    "    print(feat_imp.to_string())\n",
    "    del alg\n",
    "    gc.collect()\n",
    "    \n"
   ]
  },
  {
   "cell_type": "code",
   "execution_count": 8,
   "metadata": {},
   "outputs": [
    {
     "name": "stdout",
     "output_type": "stream",
     "text": [
      "         L0_S0_F0  L0_S0_F2  L0_S0_F4  L0_S0_F6  L0_S0_F8  L0_S0_F10  \\\n",
      "Id                                                                     \n",
      "477790      0.003    -0.026     0.003     0.003     0.031     -0.021   \n",
      "2242067       NaN       NaN       NaN       NaN       NaN        NaN   \n",
      "497761        NaN       NaN       NaN       NaN       NaN        NaN   \n",
      "1085097    -0.134    -0.101    -0.197    -0.161     0.031      0.206   \n",
      "1529311       NaN       NaN       NaN       NaN       NaN        NaN   \n",
      "\n",
      "         L0_S0_F12  L0_S0_F14  L0_S0_F16  L0_S0_F18  ...  L3_S50_F4245  \\\n",
      "Id                                                   ...                 \n",
      "477790       0.000      0.008     -0.138      0.077  ...           NaN   \n",
      "2242067        NaN        NaN        NaN        NaN  ...           NaN   \n",
      "497761         NaN        NaN        NaN        NaN  ...           NaN   \n",
      "1085097      0.022      0.048     -0.128     -0.174  ...           NaN   \n",
      "1529311        NaN        NaN        NaN        NaN  ...           NaN   \n",
      "\n",
      "         L3_S50_F4247  L3_S50_F4249  L3_S50_F4251  L3_S50_F4253  L3_S51_F4256  \\\n",
      "Id                                                                              \n",
      "477790            NaN           NaN           NaN           NaN           NaN   \n",
      "2242067           NaN           NaN           NaN           NaN           NaN   \n",
      "497761            NaN           NaN           NaN           NaN           NaN   \n",
      "1085097           NaN           NaN           NaN           NaN           NaN   \n",
      "1529311           NaN           NaN           NaN           NaN           NaN   \n",
      "\n",
      "         L3_S51_F4258  L3_S51_F4260  L3_S51_F4262  Response  \n",
      "Id                                                           \n",
      "477790            NaN           NaN           NaN         0  \n",
      "2242067           NaN           NaN           NaN         0  \n",
      "497761            NaN           NaN           NaN         0  \n",
      "1085097           NaN           NaN           NaN         0  \n",
      "1529311           NaN           NaN           NaN         0  \n",
      "\n",
      "[5 rows x 969 columns]\n",
      "[[ 0.003 -0.026  0.003 ...    nan    nan    nan]\n",
      " [   nan    nan    nan ...    nan    nan    nan]\n",
      " [   nan    nan    nan ...    nan    nan    nan]\n",
      " ...\n",
      " [   nan    nan    nan ...    nan    nan    nan]\n",
      " [   nan    nan    nan ...    nan    nan    nan]\n",
      " [   nan    nan    nan ...    nan    nan    nan]]\n"
     ]
    },
    {
     "name": "stderr",
     "output_type": "stream",
     "text": [
      "C:\\Users\\Rezaul Abedin\\Anaconda3\\lib\\site-packages\\xgboost\\core.py:587: FutureWarning: Series.base is deprecated and will be removed in a future version\n",
      "  if getattr(data, 'base', None) is not None and \\\n",
      "C:\\Users\\Rezaul Abedin\\Anaconda3\\lib\\site-packages\\xgboost\\core.py:588: FutureWarning: Series.base is deprecated and will be removed in a future version\n",
      "  data.base is not None and isinstance(data, np.ndarray) \\\n"
     ]
    },
    {
     "name": "stdout",
     "output_type": "stream",
     "text": [
      "[0]\ttrain-auc:0.699892+0.0265552\ttest-auc:0.552798+0.0260564\n",
      "[1]\ttrain-auc:0.771596+0.0175413\ttest-auc:0.575455+0.0102651\n",
      "[2]\ttrain-auc:0.792788+0.0202864\ttest-auc:0.599007+0.0230897\n",
      "[3]\ttrain-auc:0.826897+0.0124139\ttest-auc:0.60809+0.0618358\n",
      "[4]\ttrain-auc:0.83933+0.00846169\ttest-auc:0.61545+0.0475339\n",
      "[5]\ttrain-auc:0.848074+0.00509633\ttest-auc:0.611136+0.0420177\n",
      "[6]\ttrain-auc:0.862499+0.00731627\ttest-auc:0.610562+0.0427853\n",
      "[7]\ttrain-auc:0.878872+0.019104\ttest-auc:0.606725+0.0451897\n",
      "[8]\ttrain-auc:0.882457+0.0191861\ttest-auc:0.608988+0.035199\n",
      "[9]\ttrain-auc:0.888006+0.021471\ttest-auc:0.615132+0.0336699\n",
      "[10]\ttrain-auc:0.898099+0.0126015\ttest-auc:0.617931+0.0377871\n",
      "[11]\ttrain-auc:0.904479+0.0105324\ttest-auc:0.615384+0.036254\n",
      "[12]\ttrain-auc:0.911441+0.008671\ttest-auc:0.608208+0.0370026\n",
      "[13]\ttrain-auc:0.912294+0.00973194\ttest-auc:0.613436+0.04094\n",
      "[14]\ttrain-auc:0.916857+0.0110249\ttest-auc:0.617043+0.036956\n",
      "[15]\ttrain-auc:0.919709+0.0102567\ttest-auc:0.624843+0.0321103\n",
      "[16]\ttrain-auc:0.922289+0.0107082\ttest-auc:0.625167+0.0324883\n",
      "[17]\ttrain-auc:0.926913+0.0100551\ttest-auc:0.626776+0.0322746\n",
      "[18]\ttrain-auc:0.931647+0.0125156\ttest-auc:0.624334+0.0300423\n",
      "[19]\ttrain-auc:0.937956+0.0139266\ttest-auc:0.619064+0.0294154\n",
      "[20]\ttrain-auc:0.939325+0.012235\ttest-auc:0.623756+0.0343391\n",
      "[21]\ttrain-auc:0.942556+0.0138856\ttest-auc:0.624843+0.0350421\n",
      "[22]\ttrain-auc:0.944403+0.0155016\ttest-auc:0.624272+0.0358551\n",
      "[23]\ttrain-auc:0.947503+0.0134052\ttest-auc:0.623581+0.0358686\n",
      "[24]\ttrain-auc:0.949669+0.0129998\ttest-auc:0.621667+0.0373048\n",
      "[25]\ttrain-auc:0.952116+0.0127202\ttest-auc:0.623186+0.0326286\n",
      "[26]\ttrain-auc:0.954363+0.014042\ttest-auc:0.62343+0.028716\n",
      "[27]\ttrain-auc:0.955827+0.0128518\ttest-auc:0.626769+0.0275075\n",
      "[28]\ttrain-auc:0.956795+0.0124895\ttest-auc:0.6274+0.0255325\n",
      "[29]\ttrain-auc:0.957992+0.0113144\ttest-auc:0.629935+0.0225766\n",
      "[30]\ttrain-auc:0.959802+0.0122013\ttest-auc:0.632577+0.0264136\n",
      "[31]\ttrain-auc:0.96049+0.0109436\ttest-auc:0.635616+0.0282174\n",
      "[32]\ttrain-auc:0.964658+0.00832879\ttest-auc:0.635443+0.0272991\n",
      "[33]\ttrain-auc:0.966291+0.00912833\ttest-auc:0.631431+0.0252813\n",
      "[34]\ttrain-auc:0.968196+0.00786516\ttest-auc:0.633095+0.0272282\n",
      "[35]\ttrain-auc:0.970202+0.00779664\ttest-auc:0.633579+0.0257866\n",
      "[36]\ttrain-auc:0.971493+0.00748976\ttest-auc:0.634604+0.022439\n",
      "[37]\ttrain-auc:0.971955+0.00754145\ttest-auc:0.636879+0.0226718\n",
      "[38]\ttrain-auc:0.972511+0.00795341\ttest-auc:0.637655+0.0217601\n",
      "[39]\ttrain-auc:0.973867+0.0071494\ttest-auc:0.634221+0.0195463\n",
      "[40]\ttrain-auc:0.975863+0.00619758\ttest-auc:0.634646+0.019867\n",
      "[41]\ttrain-auc:0.976877+0.00586403\ttest-auc:0.636182+0.0217068\n",
      "[42]\ttrain-auc:0.977935+0.00564167\ttest-auc:0.63694+0.0194552\n",
      "[43]\ttrain-auc:0.978483+0.00571501\ttest-auc:0.639373+0.0158979\n",
      "[44]\ttrain-auc:0.978577+0.00555705\ttest-auc:0.63817+0.0171566\n",
      "[45]\ttrain-auc:0.979532+0.00568453\ttest-auc:0.639639+0.016944\n",
      "[46]\ttrain-auc:0.979975+0.00536303\ttest-auc:0.635405+0.0155168\n",
      "[47]\ttrain-auc:0.980884+0.0050073\ttest-auc:0.634814+0.0128805\n",
      "[48]\ttrain-auc:0.981338+0.00472805\ttest-auc:0.635864+0.0112827\n",
      "[49]\ttrain-auc:0.9812+0.00476989\ttest-auc:0.634726+0.0118813\n",
      "XGBClassifier(base_score=0.0056, booster='gbtree', colsample_bylevel=1,\n",
      "              colsample_bynode=1, colsample_bytree=0.8, gamma=0.1,\n",
      "              learning_rate=0.05, max_delta_step=0, max_depth=3,\n",
      "              min_child_weight=1, missing=None, n_estimators=50, n_jobs=1,\n",
      "              nthread=4, objective='binary:logistic', random_state=0,\n",
      "              reg_alpha=0, reg_lambda=1, scale_pos_weight=3, seed=None,\n",
      "              silent=None, subsample=0.8, verbosity=1)\n",
      "Important Features:\n",
      "         f_name     score\n",
      "0  L3_S32_F3850  0.080107\n",
      "1  L3_S47_F4158  0.029682\n",
      "2  L3_S29_F3458  0.027850\n",
      "3  L1_S24_F1844  0.021021\n",
      "4  L1_S24_F1814  0.021006\n",
      "AUC Score (Train): 0.958614\n",
      "f850    8\n",
      "f851    8\n",
      "f4      7\n",
      "f838    7\n",
      "f393    5\n",
      "f1      5\n",
      "f854    5\n",
      "f784    5\n",
      "f736    5\n",
      "f10     4\n",
      "f128    4\n",
      "f755    4\n",
      "f819    4\n",
      "f21     4\n",
      "f792    4\n",
      "f818    4\n",
      "f742    4\n",
      "f22     4\n",
      "f741    4\n",
      "f360    4\n",
      "f394    4\n",
      "f771    4\n",
      "f707    4\n",
      "f48     3\n",
      "f15     3\n"
     ]
    },
    {
     "data": {
      "image/png": "[encoded data removed]",
      "text/plain": [
       "<Figure size 504x216 with 1 Axes>"
      ]
     },
     "metadata": {
      "needs_background": "light"
     },
     "output_type": "display_data"
    }
   ],
   "source": [
    "for num in np.arange(1):\n",
    "    X_all = getSample(0.10)\n",
    "    print(X_all.head())\n",
    "    y_all = X_all['Response']\n",
    "    X_all = X_all.iloc[:,:-1].values\n",
    "    print(X_all)\n",
    "    from xgboost.sklearn import XGBClassifier\n",
    "    xgb1 = XGBClassifier(learning_rate=0.05,\n",
    "                     base_score=0.0056,\n",
    "                     n_estimators=50,\n",
    "                     min_child_weight=1,\n",
    "                     gamma=0.1,\n",
    "                     subsample=0.8,\n",
    "                     colsample_bytree=0.8,\n",
    "                     objective='binary:logistic',\n",
    "                     nthread=4,\n",
    "                     scale_pos_weight=3)\n",
    "    modelfit(xgb1, X_all, y_all, num)"
   ]
  },
  {
   "cell_type": "code",
   "execution_count": null,
   "metadata": {},
   "outputs": [],
   "source": []
  }
 ],
 "metadata": {
  "kernelspec": {
   "display_name": "Python 3",
   "language": "python",
   "name": "python3"
  },
  "language_info": {
   "codemirror_mode": {
    "name": "ipython",
    "version": 3
   },
   "file_extension": ".py",
   "mimetype": "text/x-python",
   "name": "python",
   "nbconvert_exporter": "python",
   "pygments_lexer": "ipython3",
   "version": "3.7.3"
  }
 },
 "nbformat": 4,
 "nbformat_minor": 2
}
